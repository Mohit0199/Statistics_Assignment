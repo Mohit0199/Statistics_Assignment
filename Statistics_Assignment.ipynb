{
  "cells": [
    {
      "cell_type": "code",
      "execution_count": 1,
      "id": "1968b5c9-c3c4-4880-b515-ca08e8039c73",
      "metadata": {
        "id": "1968b5c9-c3c4-4880-b515-ca08e8039c73"
      },
      "outputs": [],
      "source": [
        "import numpy as np\n",
        "import pandas as pd\n",
        "import statistics\n",
        "import seaborn as sns\n",
        "import matplotlib.pyplot as plt\n",
        "from scipy import stats"
      ]
    },
    {
      "cell_type": "code",
      "execution_count": 2,
      "id": "2b926a17-99c5-48f0-81e8-b29f18eefde4",
      "metadata": {
        "colab": {
          "base_uri": "https://localhost:8080/"
        },
        "id": "2b926a17-99c5-48f0-81e8-b29f18eefde4",
        "outputId": "920f90a8-f3f3-4a88-fce9-590cbd5f471b"
      },
      "outputs": [
        {
          "output_type": "execute_result",
          "data": {
            "text/plain": [
              "array([115, 106, 117, 107, 103, 102, 123,  97, 108, 114, 118, 122,  94,\n",
              "       124, 102,  91, 100, 127, 129, 110, 107, 117, 114, 107,  93,  96,\n",
              "        90, 105, 122, 113, 117,  96, 115, 100, 117, 104,  97, 105,  90,\n",
              "       117, 121,  95,  97, 125,  91,  93,  98, 113, 107,  94,  98, 122,\n",
              "       104, 109, 115, 116, 128, 107, 108, 100, 122,  98,  94, 123,  91,\n",
              "       121, 101, 124,  98, 109, 122, 110, 108,  98, 128, 129, 124, 121,\n",
              "       126,  94, 118, 103,  91, 116, 111, 110, 107, 107,  94, 100, 129,\n",
              "       125, 111,  93, 125, 107,  96,  91, 129, 126])"
            ]
          },
          "metadata": {},
          "execution_count": 2
        }
      ],
      "source": [
        "# 1. Generate a list of 100 integers containing values between 90 to 130 and store it in the variable “int_list\".\n",
        "# After generating the list, find the following:\n",
        "\n",
        "np.random.seed(11)\n",
        "int_list = np.random.randint(90, 130, 100)\n",
        "int_list"
      ]
    },
    {
      "cell_type": "code",
      "execution_count": 3,
      "id": "0e664ff3-ae45-425e-9d33-eabab89e8c95",
      "metadata": {
        "colab": {
          "base_uri": "https://localhost:8080/"
        },
        "id": "0e664ff3-ae45-425e-9d33-eabab89e8c95",
        "outputId": "fbdcc0df-e684-4f50-fb29-e6b11e62d715"
      },
      "outputs": [
        {
          "output_type": "stream",
          "name": "stdout",
          "text": [
            "Mean of given list 109.02\n",
            "Median of given list 108.0\n"
          ]
        }
      ],
      "source": [
        "# (i) write a Python function to calculate the mean of a given list of numbers.\n",
        "# Create a function to find the median of a list of numbers.\n",
        "\n",
        "def calculate_mean(l):\n",
        "    return np.mean(l)\n",
        "\n",
        "def calculate_median(l):\n",
        "    return np.median(l)\n",
        "\n",
        "print(f\"Mean of given list {calculate_mean(int_list)}\")\n",
        "print(f\"Median of given list {calculate_median(int_list)}\")"
      ]
    },
    {
      "cell_type": "code",
      "execution_count": 4,
      "id": "6ca13278-1bbe-4906-b628-8a96059bed5e",
      "metadata": {
        "colab": {
          "base_uri": "https://localhost:8080/"
        },
        "id": "6ca13278-1bbe-4906-b628-8a96059bed5e",
        "outputId": "9e6d43d4-ced7-4c1a-b1bf-63bee32511be"
      },
      "outputs": [
        {
          "output_type": "stream",
          "name": "stdout",
          "text": [
            "Mode of given list 107\n"
          ]
        }
      ],
      "source": [
        "# (ii) Develop a program to compute the mode of a list of integers.\n",
        "\n",
        "def calculate_mode(l):\n",
        "    return statistics.mode(l)\n",
        "\n",
        "print(f\"Mode of given list {calculate_mode(int_list)}\")"
      ]
    },
    {
      "cell_type": "code",
      "execution_count": 5,
      "id": "336942db-d354-4513-a20f-b8a080c4f6f7",
      "metadata": {
        "colab": {
          "base_uri": "https://localhost:8080/"
        },
        "id": "336942db-d354-4513-a20f-b8a080c4f6f7",
        "outputId": "7cad7b2f-1d40-4136-f309-6276f440baea"
      },
      "outputs": [
        {
          "output_type": "stream",
          "name": "stdout",
          "text": [
            "weighted mean of a list of values and their corresponding weights is 280.54082622336693\n"
          ]
        }
      ],
      "source": [
        "# (iii) Implement a function to calculate the weighted mean of a list of values and their corresponding weights.\n",
        "\n",
        "np.random.seed(11)\n",
        "weights = np.random.randn(100)\n",
        "\n",
        "def calculate_weighted_mean(l, weights):\n",
        "    return np.average(l, weights=weights)\n",
        "\n",
        "print(f\"weighted mean of a list of values and their corresponding weights is {calculate_weighted_mean(int_list, weights)}\")"
      ]
    },
    {
      "cell_type": "code",
      "execution_count": 6,
      "id": "34684c03-c251-4db9-ba0f-30d843844a52",
      "metadata": {
        "colab": {
          "base_uri": "https://localhost:8080/"
        },
        "id": "34684c03-c251-4db9-ba0f-30d843844a52",
        "outputId": "108b961c-e025-4e53-d387-5425800c5075"
      },
      "outputs": [
        {
          "output_type": "stream",
          "name": "stdout",
          "text": [
            "Geometric mean of a list of positive numbers is 108.38690714005398\n"
          ]
        }
      ],
      "source": [
        "# (iv) Write a Python function to find the geometric mean of a list of positive numbers.\n",
        "\n",
        "def calculate_geometric_mean(l):\n",
        "    return np.exp(np.mean(np.log(l)))\n",
        "\n",
        "print(f\"Geometric mean of a list of positive numbers is {calculate_geometric_mean(int_list)}\")"
      ]
    },
    {
      "cell_type": "code",
      "execution_count": 7,
      "id": "984870b9-14e9-4020-8303-e0b96d999b6d",
      "metadata": {
        "colab": {
          "base_uri": "https://localhost:8080/"
        },
        "id": "984870b9-14e9-4020-8303-e0b96d999b6d",
        "outputId": "6d010887-d797-42cb-d5a9-dd1f09af63d4"
      },
      "outputs": [
        {
          "output_type": "stream",
          "name": "stdout",
          "text": [
            "The harmonic mean of a list of values 107.75518982989689\n"
          ]
        }
      ],
      "source": [
        "# (v) Create a program to calculate the harmonic mean of a list of values.\n",
        "\n",
        "def calculate_harmonic_mean(l):\n",
        "    return len(l) / np.sum(1.0 / l)\n",
        "\n",
        "print(f\"The harmonic mean of a list of values {calculate_harmonic_mean(int_list)}\")"
      ]
    },
    {
      "cell_type": "code",
      "execution_count": 8,
      "id": "1332592e-c665-4080-a577-8e69ebde5c5b",
      "metadata": {
        "colab": {
          "base_uri": "https://localhost:8080/"
        },
        "id": "1332592e-c665-4080-a577-8e69ebde5c5b",
        "outputId": "b972cba1-bb40-4679-c93b-b08b13be5056"
      },
      "outputs": [
        {
          "output_type": "stream",
          "name": "stdout",
          "text": [
            "The midrange of a list of numbers (average of the minimum and maximum is 109.5)\n"
          ]
        }
      ],
      "source": [
        "# (vi) Build a function to determine the midrange of a list of numbers (average of the minimum and maximum).\n",
        "\n",
        "def calculate_midrange(l):\n",
        "    min_value = np.min(l)\n",
        "    max_value = np.max(l)\n",
        "    return (min_value + max_value) / 2\n",
        "\n",
        "print(f\"The midrange of a list of numbers (average of the minimum and maximum is {calculate_midrange(int_list)})\")"
      ]
    },
    {
      "cell_type": "code",
      "execution_count": 9,
      "id": "9403ce96-9fa5-49ab-b9be-c71fc7af7c64",
      "metadata": {
        "colab": {
          "base_uri": "https://localhost:8080/"
        },
        "id": "9403ce96-9fa5-49ab-b9be-c71fc7af7c64",
        "outputId": "900d57ff-4f0d-466d-e428-8944a67aa339"
      },
      "outputs": [
        {
          "output_type": "stream",
          "name": "stdout",
          "text": [
            "The trimmed mean of a list, excluding a 10 percentage of outliers is 108.9\n"
          ]
        }
      ],
      "source": [
        "# (vii) Implement a Python program to find the trimmed mean of a list, excluding a certain percentage of\n",
        "# outliers.\n",
        "\n",
        "def trimmed_mean(l, trim_percentage):\n",
        "    sorted_list = sorted(l)\n",
        "\n",
        "    trim_count = int(len(sorted_list) * trim_percentage / 100)\n",
        "    trimmed_list = sorted_list[trim_count:-trim_count]\n",
        "    mean = sum(trimmed_list) / len(trimmed_list)\n",
        "\n",
        "    return mean\n",
        "\n",
        "print(f\"The trimmed mean of a list, excluding a 10 percentage of outliers is {trimmed_mean(int_list, 10)}\")"
      ]
    },
    {
      "cell_type": "code",
      "execution_count": 10,
      "id": "5d5cf6ad-74cd-4aa6-b53b-c1fa71ba4942",
      "metadata": {
        "colab": {
          "base_uri": "https://localhost:8080/"
        },
        "id": "5d5cf6ad-74cd-4aa6-b53b-c1fa71ba4942",
        "outputId": "2798b18f-50e5-43bd-d9c1-33a5bf7a0ce1"
      },
      "outputs": [
        {
          "output_type": "execute_result",
          "data": {
            "text/plain": [
              "array([275, 227, 206, 202, 203, 267, 276, 248, 222, 249, 252, 205, 213,\n",
              "       289, 234, 275, 274, 200, 276, 213, 282, 289, 235, 262, 235, 233,\n",
              "       230, 263, 296, 218, 286, 250, 280, 284, 206, 273, 245, 230, 232,\n",
              "       227, 259, 289, 259, 288, 279, 225, 297, 256, 204, 296, 268, 265,\n",
              "       244, 237, 275, 268, 253, 275, 253, 247, 260, 296, 242, 270, 270,\n",
              "       267, 202, 228, 274, 258, 259, 284, 299, 254, 255, 284, 297, 220,\n",
              "       229, 269, 251, 243, 232, 243, 218, 270, 291, 234, 253, 258, 200,\n",
              "       237, 220, 280, 267, 287, 257, 254, 256, 297, 268, 225, 244, 222,\n",
              "       269, 209, 259, 227, 228, 202, 268, 248, 244, 252, 268, 235, 271,\n",
              "       254, 230, 249, 236, 246, 210, 276, 283, 272, 226, 272, 222, 256,\n",
              "       278, 268, 289, 279, 204, 297, 228, 220, 281, 226, 204, 291, 219,\n",
              "       288, 243, 293, 264, 297, 268, 295, 238, 237, 220, 266, 290, 274,\n",
              "       296, 295, 234, 274, 250, 280, 217, 220, 242, 239, 230, 217, 270,\n",
              "       281, 267, 215, 200, 233, 244, 245, 220, 226, 240, 272, 288, 208,\n",
              "       215, 276, 262, 247, 219, 214, 230, 243, 215, 214, 205, 265, 215,\n",
              "       222, 282, 219, 228, 217, 289, 293, 230, 219, 266, 298, 247, 259,\n",
              "       208, 241, 237, 257, 201, 255, 236, 261, 213, 280, 246, 293, 281,\n",
              "       236, 210, 255, 266, 215, 262, 294, 236, 296, 288, 251, 205, 298,\n",
              "       263, 226, 204, 230, 223, 293, 253, 232, 227, 266, 276, 268, 263,\n",
              "       222, 229, 250, 287, 250, 233, 269, 283, 246, 245, 291, 217, 217,\n",
              "       285, 256, 296, 224, 238, 253, 270, 291, 268, 287, 272, 255, 297,\n",
              "       288, 259, 250, 282, 271, 232, 217, 232, 273, 264, 263, 277, 247,\n",
              "       247, 295, 264, 291, 223, 261, 294, 235, 231, 234, 283, 228, 204,\n",
              "       271, 213, 218, 218, 226, 299, 280, 251, 255, 247, 256, 206, 233,\n",
              "       208, 270, 214, 254, 294, 249, 203, 264, 253, 237, 283, 235, 223,\n",
              "       211, 205, 249, 244, 226, 207, 275, 234, 295, 203, 248, 234, 229,\n",
              "       274, 228, 228, 263, 257, 284, 245, 267, 246, 292, 216, 261, 241,\n",
              "       217, 256, 268, 258, 232, 249, 205, 249, 202, 289, 251, 254, 263,\n",
              "       264, 272, 290, 277, 243, 291, 268, 282, 276, 271, 271, 209, 293,\n",
              "       232, 251, 268, 259, 248, 234, 282, 282, 269, 297, 293, 257, 263,\n",
              "       242, 215, 247, 266, 202, 274, 250, 290, 238, 232, 275, 255, 220,\n",
              "       256, 273, 203, 241, 208, 224, 252, 298, 218, 230, 231, 278, 292,\n",
              "       283, 212, 287, 252, 208, 271, 264, 262, 231, 224, 225, 280, 238,\n",
              "       239, 274, 292, 284, 200, 246, 281, 210, 230, 295, 252, 215, 261,\n",
              "       209, 234, 273, 200, 234, 276, 208, 296, 230, 253, 278, 273, 248,\n",
              "       299, 261, 264, 224, 229, 290, 249, 279, 210, 296, 295, 216, 218,\n",
              "       294, 262, 204, 203, 225, 275, 289, 297, 237, 296, 298, 262, 250,\n",
              "       272, 221, 248, 275, 239, 257, 232, 266, 280, 292, 235, 227, 221,\n",
              "       239, 259, 289, 220, 243, 254])"
            ]
          },
          "metadata": {},
          "execution_count": 10
        }
      ],
      "source": [
        "# 2. Generate a list of 500 integers containing values between 200 to 300 and store it in the variable “int_list2\".\n",
        "# After generating the list, find the following:\n",
        "\n",
        "np.random.seed(12)\n",
        "int_list2 = np.random.randint(200, 300, 500)\n",
        "int_list2"
      ]
    },
    {
      "cell_type": "code",
      "execution_count": 74,
      "id": "0ae80eea-3afa-472c-9761-802057ef0818",
      "metadata": {
        "colab": {
          "base_uri": "https://localhost:8080/",
          "height": 1000
        },
        "id": "0ae80eea-3afa-472c-9761-802057ef0818",
        "outputId": "562d9732-9696-4215-c4a2-8a004716783c"
      },
      "outputs": [
        {
          "output_type": "stream",
          "name": "stderr",
          "text": [
            "<ipython-input-74-cdedfd82234d>:30: UserWarning: \n",
            "\n",
            "`distplot` is a deprecated function and will be removed in seaborn v0.14.0.\n",
            "\n",
            "Please adapt your code to use either `displot` (a figure-level function with\n",
            "similar flexibility) or `histplot` (an axes-level function for histograms).\n",
            "\n",
            "For a guide to updating your code to use the new functions, please see\n",
            "https://gist.github.com/mwaskom/de44147ed2974457ad6372750bbe5751\n",
            "\n",
            "  sns.distplot(int_list2, bins=20, kde=True, color='lightgray')\n"
          ]
        },
        {
          "output_type": "display_data",
          "data": {
            "text/plain": [
              "<Figure size 1000x1800 with 3 Axes>"
            ],
            "image/png": "[encoded data removed]"
          },
          "metadata": {}
        }
      ],
      "source": [
        "# (i) compare the given list of visualization for the given data:\n",
        "\n",
        "# 1. Frequency & Gaussian distribution\n",
        "# 2. Frequency smoothened KDE plot\n",
        "# 3. Gaussian distribution & smoothened KDE plot\n",
        "\n",
        "\n",
        "plt.figure(figsize=(10, 18))\n",
        "\n",
        "# Plot 1: Frequency & Gaussian distribution\n",
        "plt.subplot(3, 1, 1)\n",
        "plt.hist(int_list2, bins=20, density=True, color='lightgray', label='Frequency')\n",
        "x = np.linspace(200, 300, 1000)\n",
        "pdf = 1 / (np.std(int_list2) * np.sqrt(2 * np.pi)) * np.exp(-(x - np.mean(int_list2))**2 / (2 * np.std(int_list2)**2))\n",
        "plt.plot(x, pdf, color='blue', linestyle='--', label='Gaussian Distribution')\n",
        "plt.title('Frequency & Gaussian distribution')\n",
        "plt.xlabel('Values')\n",
        "plt.ylabel('Density')\n",
        "plt.legend()\n",
        "\n",
        "# Plot 2: Frequency smoothened KDE plot\n",
        "plt.subplot(3, 1, 2)\n",
        "sns.kdeplot(int_list2, color='green', fill=True)  # KDE plot\n",
        "plt.title('Frequency smoothened KDE plot')\n",
        "plt.xlabel('Values')\n",
        "plt.ylabel('Density')\n",
        "\n",
        "# Plot 3: Gaussian distribution & smoothened KDE plot\n",
        "plt.subplot(3, 1, 3)\n",
        "sns.distplot(int_list2, bins=20, kde=True, color='lightgray')\n",
        "sns.kdeplot(int_list2, color='blue', linestyle='--', label='KDE Plot')\n",
        "plt.title('Gaussian distribution & smoothened KDE plot')\n",
        "plt.xlabel('Values')\n",
        "plt.ylabel('Density')\n",
        "plt.legend()\n",
        "\n",
        "plt.tight_layout()\n",
        "plt.show()"
      ]
    },
    {
      "cell_type": "code",
      "execution_count": 14,
      "id": "10818eae-c4bb-416a-8ab2-dc7ad8a58ab4",
      "metadata": {
        "colab": {
          "base_uri": "https://localhost:8080/"
        },
        "id": "10818eae-c4bb-416a-8ab2-dc7ad8a58ab4",
        "outputId": "08ed617f-77de-4d5f-f89b-f6d614cef7f8"
      },
      "outputs": [
        {
          "output_type": "stream",
          "name": "stdout",
          "text": [
            "Range of list is 99\n"
          ]
        }
      ],
      "source": [
        "# (ii) write a Python function to calculate the range of a given list of numbers.\n",
        "\n",
        "def calculate_range(l):\n",
        "    return np.max(l) - np.min(l)\n",
        "\n",
        "print(f\"Range of list is {calculate_range(int_list2)}\")"
      ]
    },
    {
      "cell_type": "code",
      "execution_count": 15,
      "id": "e8118233-06a1-4eb1-b159-ac63c4e05811",
      "metadata": {
        "colab": {
          "base_uri": "https://localhost:8080/"
        },
        "id": "e8118233-06a1-4eb1-b159-ac63c4e05811",
        "outputId": "0393c7d5-d692-47dd-aa03-2029035e05e4"
      },
      "outputs": [
        {
          "output_type": "stream",
          "name": "stdout",
          "text": [
            "variance and standard deviation of a list of numbers are 771.5112760000001 and 27.77609180572386 respectively\n"
          ]
        }
      ],
      "source": [
        "# (iii) Create a program to find the variance and standard deviation of a list of numbers.\n",
        "\n",
        "def calculate_var(l):\n",
        "    return np.var(l)\n",
        "\n",
        "def calculate_std(l):\n",
        "    return np.std(l)\n",
        "\n",
        "print(f\"variance and standard deviation of a list of numbers are {calculate_var(int_list2)} and {calculate_std(int_list2)} respectively\")"
      ]
    },
    {
      "cell_type": "code",
      "execution_count": 16,
      "id": "bd7bd297-96bf-493e-8284-ff803fd2ddc8",
      "metadata": {
        "colab": {
          "base_uri": "https://localhost:8080/"
        },
        "id": "bd7bd297-96bf-493e-8284-ff803fd2ddc8",
        "outputId": "0c2de6ea-2122-425e-a671-61a6f7c2b72d"
      },
      "outputs": [
        {
          "output_type": "stream",
          "name": "stdout",
          "text": [
            "IQR is 45.0\n"
          ]
        }
      ],
      "source": [
        "# (iv) Implement a function to compute the interquartile range (IQR) of a list of values.\n",
        "\n",
        "def calculate_IQR(l):\n",
        "    q1 = np.percentile(l, 25)\n",
        "    q3 = np.percentile(l, 75)\n",
        "    return q3-q1\n",
        "\n",
        "print(f\"IQR is {calculate_IQR(int_list2)}\")"
      ]
    },
    {
      "cell_type": "code",
      "execution_count": 17,
      "id": "2b9b774b-4afc-4130-8091-8f18018489fb",
      "metadata": {
        "colab": {
          "base_uri": "https://localhost:8080/"
        },
        "id": "2b9b774b-4afc-4130-8091-8f18018489fb",
        "outputId": "67c3e5f1-a271-4674-f2b3-8eabdbaa5fe2"
      },
      "outputs": [
        {
          "output_type": "stream",
          "name": "stdout",
          "text": [
            "The coefficient of variation for a dataset 0.11040571982782496\n"
          ]
        }
      ],
      "source": [
        "# (v) Build a program to calculate the coefficient of variation for a dataset.\n",
        "\n",
        "def coefficient_of_variation(l):\n",
        "    mean_val = np.mean(l)\n",
        "    std_dev = np.std(l)\n",
        "\n",
        "    if mean_val == 0:\n",
        "        return float('inf')\n",
        "\n",
        "    return std_dev / mean_val\n",
        "\n",
        "print(f\"The coefficient of variation for a dataset {coefficient_of_variation(int_list2)}\")"
      ]
    },
    {
      "cell_type": "code",
      "execution_count": 18,
      "id": "a359089b-3224-4ce0-9f98-84a1c0bf4f5e",
      "metadata": {
        "colab": {
          "base_uri": "https://localhost:8080/"
        },
        "id": "a359089b-3224-4ce0-9f98-84a1c0bf4f5e",
        "outputId": "1609de04-b035-442b-e44e-fea98baa8b2f"
      },
      "outputs": [
        {
          "output_type": "stream",
          "name": "stdout",
          "text": [
            "mean absolute deviation (MAD) of a list of numbers 23.762359999999997\n"
          ]
        }
      ],
      "source": [
        "# (vi) Write a Python function to find the mean absolute deviation (MAD) of a list of numbers.\n",
        "\n",
        "def mean_absolute_deviation(l):\n",
        "    mean = np.mean(l)\n",
        "    absolute_deviations = [abs(x - mean) for x in l]\n",
        "    mad = np.mean(absolute_deviations)\n",
        "    return mad\n",
        "\n",
        "print(f\"mean absolute deviation (MAD) of a list of numbers {mean_absolute_deviation(int_list2)}\")"
      ]
    },
    {
      "cell_type": "code",
      "execution_count": 19,
      "id": "3c81c13f-182e-4f4f-8058-7e3a767c86f1",
      "metadata": {
        "colab": {
          "base_uri": "https://localhost:8080/"
        },
        "id": "3c81c13f-182e-4f4f-8058-7e3a767c86f1",
        "outputId": "ee314445-6984-4d37-aa84-087b2e316734"
      },
      "outputs": [
        {
          "output_type": "stream",
          "name": "stdout",
          "text": [
            "Quartile deviation of a list of values is 22.5\n"
          ]
        }
      ],
      "source": [
        "# (vii) Create a program to calculate the quartile deviation of a list of values.\n",
        "\n",
        "IQR = calculate_IQR(int_list2)\n",
        "print(f\"Quartile deviation of a list of values is {IQR/2}\")"
      ]
    },
    {
      "cell_type": "code",
      "execution_count": 20,
      "id": "98202bc8-8bd0-422a-afe0-35319e0c9c98",
      "metadata": {
        "colab": {
          "base_uri": "https://localhost:8080/"
        },
        "id": "98202bc8-8bd0-422a-afe0-35319e0c9c98",
        "outputId": "a98d0f2e-200a-4ac1-a8e5-00c1db7ebdf8"
      },
      "outputs": [
        {
          "output_type": "stream",
          "name": "stdout",
          "text": [
            "The range-based coefficient of dispersion for a dataset is 0.393509869545516\n"
          ]
        }
      ],
      "source": [
        "# (viii) Implement a function to find the range-based coefficient of dispersion for a dataset.\n",
        "\n",
        "range_of_list = calculate_range(int_list2)\n",
        "\n",
        "print(f\"The range-based coefficient of dispersion for a dataset is {range_of_list/np.mean(int_list2)}\")"
      ]
    },
    {
      "cell_type": "code",
      "execution_count": 21,
      "id": "bf51f20b-acf0-4b44-b2a1-7fde45c2c7e2",
      "metadata": {
        "colab": {
          "base_uri": "https://localhost:8080/"
        },
        "id": "bf51f20b-acf0-4b44-b2a1-7fde45c2c7e2",
        "outputId": "84d286e9-6dfb-4e91-9b3a-6ea3d38d5a6c"
      },
      "outputs": [
        {
          "output_type": "stream",
          "name": "stdout",
          "text": [
            "Expected Value: 3.2\n",
            "Variance: 1.56\n"
          ]
        }
      ],
      "source": [
        "# 3. Write a Python class representing a discrete random variable with methods to calculate its expected\n",
        "# value and variance.\n",
        "\n",
        "class DiscreteRandomVariable:\n",
        "    def __init__(self, outcomes, probabilities):\n",
        "        self.outcomes = outcomes\n",
        "        self.probabilities = probabilities\n",
        "\n",
        "    def expected_value(self):\n",
        "        return sum(outcome * probability for outcome, probability in zip(self.outcomes, self.probabilities))\n",
        "\n",
        "    def variance(self):\n",
        "        mean = self.expected_value()\n",
        "        return sum((outcome - mean) ** 2 * probability for outcome, probability in zip(self.outcomes, self.probabilities))\n",
        "\n",
        "outcomes = [1, 2, 3, 4, 5]\n",
        "probabilities = [0.1, 0.2, 0.3, 0.2, 0.2]\n",
        "\n",
        "rv = DiscreteRandomVariable(outcomes, probabilities)\n",
        "print(\"Expected Value:\", rv.expected_value())\n",
        "print(\"Variance:\", rv.variance())"
      ]
    },
    {
      "cell_type": "code",
      "execution_count": 22,
      "id": "683deda9-f5dd-4a25-a09f-81f83abe9486",
      "metadata": {
        "colab": {
          "base_uri": "https://localhost:8080/"
        },
        "id": "683deda9-f5dd-4a25-a09f-81f83abe9486",
        "outputId": "b5675c08-6fb1-41f6-8811-c2834b92b386"
      },
      "outputs": [
        {
          "output_type": "stream",
          "name": "stdout",
          "text": [
            "Simulated Expected Value: 3.4953\n",
            "Simulated Variance: 2.9087779100000004\n"
          ]
        }
      ],
      "source": [
        "# 4. Implement a program to simulate the rolling of a fair six-sided die and calculate the expected value and\n",
        "# variance of the outcomes.\n",
        "\n",
        "num_simulations = 10000\n",
        "outcomes = [1, 2, 3, 4, 5, 6]\n",
        "probabilities = [1/6] * 6  # Equal probabilities for a fair die\n",
        "\n",
        "# Simulating die rolls\n",
        "die_rolls = np.random.choice(outcomes, size=num_simulations, p=probabilities)\n",
        "\n",
        "# Calculating expected value and variance using the simulated data\n",
        "rv = DiscreteRandomVariable(outcomes, probabilities)\n",
        "print(\"Simulated Expected Value:\", np.mean(die_rolls))\n",
        "print(\"Simulated Variance:\", np.var(die_rolls))"
      ]
    },
    {
      "cell_type": "code",
      "execution_count": 23,
      "id": "375fa07b-6f6f-44ea-b064-cbdf636bcd1f",
      "metadata": {
        "colab": {
          "base_uri": "https://localhost:8080/"
        },
        "id": "375fa07b-6f6f-44ea-b064-cbdf636bcd1f",
        "outputId": "1439e0c8-3537-4c69-a3d1-b7ab6b5385b9"
      },
      "outputs": [
        {
          "output_type": "stream",
          "name": "stdout",
          "text": [
            "Mean of binomial(10, 0.5): 4.992\n",
            "Variance of binomial(10, 0.5): 2.601936\n"
          ]
        }
      ],
      "source": [
        "# 5. Create a Python function to generate random samples from a given probability distribution (e.g.,\n",
        "# binomial, Poisson) and calculate their mean and variance.\n",
        "\n",
        "def generate_samples_and_calculate_mean_variance(distribution, params, sample_size):\n",
        "    if distribution == 'binomial':\n",
        "        samples = np.random.binomial(n=params['n'], p=params['p'], size=sample_size)\n",
        "    elif distribution == 'poisson':\n",
        "        samples = np.random.poisson(lam=params['lam'], size=sample_size)\n",
        "    else:\n",
        "        raise ValueError(\"Unsupported distribution. Please choose 'binomial' or 'poisson'.\")\n",
        "\n",
        "    mean = np.mean(samples)\n",
        "    variance = np.var(samples)\n",
        "\n",
        "    return mean, variance\n",
        "\n",
        "# Example usage:\n",
        "distribution = 'binomial'\n",
        "params = {'n': 10, 'p': 0.5}  # Parameters for the binomial distribution (number of trials and probability of success)\n",
        "sample_size = 1000\n",
        "\n",
        "mean, variance = generate_samples_and_calculate_mean_variance(distribution, params, sample_size)\n",
        "print(f\"Mean of {distribution}({params['n']}, {params['p']}): {mean}\")\n",
        "print(f\"Variance of {distribution}({params['n']}, {params['p']}): {variance}\")"
      ]
    },
    {
      "cell_type": "code",
      "execution_count": 24,
      "id": "1b330786-366e-4f6a-8d01-6b1b55561db5",
      "metadata": {
        "colab": {
          "base_uri": "https://localhost:8080/"
        },
        "id": "1b330786-366e-4f6a-8d01-6b1b55561db5",
        "outputId": "3d3e66c5-3946-444e-98bb-0d0bcd3ea3f1"
      },
      "outputs": [
        {
          "output_type": "stream",
          "name": "stdout",
          "text": [
            "Mean of the samples: 9.931792209693125\n",
            "Variance of the samples: 4.051999436641921\n",
            "Standard deviation of the samples: 2.012957882480883\n"
          ]
        }
      ],
      "source": [
        "# 6. Write a Python script to generate random numbers from a Gaussian (normal) distribution and compute\n",
        "# the mean, variance, and standard deviation of the samples.\n",
        "\n",
        "def generate_samples_and_compute_statistics(mean, std_dev, sample_size):\n",
        "    samples = np.random.normal(loc=mean, scale=std_dev, size=sample_size)\n",
        "    mean = np.mean(samples)\n",
        "    variance = np.var(samples)\n",
        "    std_deviation = np.std(samples)\n",
        "    return mean, variance, std_deviation\n",
        "\n",
        "# Parameters for the Gaussian distribution\n",
        "mean = 10\n",
        "std_dev = 2\n",
        "sample_size = 1000\n",
        "\n",
        "# Generate random samples and compute statistics\n",
        "mean_sample, variance_sample, std_deviation_sample = generate_samples_and_compute_statistics(mean, std_dev, sample_size)\n",
        "\n",
        "print(\"Mean of the samples:\", mean_sample)\n",
        "print(\"Variance of the samples:\", variance_sample)\n",
        "print(\"Standard deviation of the samples:\", std_deviation_sample)"
      ]
    },
    {
      "cell_type": "code",
      "execution_count": 25,
      "id": "1e28aab4-01c0-4e1e-9eb0-cd480f6b26d0",
      "metadata": {
        "colab": {
          "base_uri": "https://localhost:8080/",
          "height": 206
        },
        "id": "1e28aab4-01c0-4e1e-9eb0-cd480f6b26d0",
        "outputId": "c26d15c4-3d0e-44fa-e3a1-b48d2e8cb89e"
      },
      "outputs": [
        {
          "output_type": "execute_result",
          "data": {
            "text/plain": [
              "   total_bill   tip     sex smoker  day    time  size\n",
              "0       16.99  1.01  Female     No  Sun  Dinner     2\n",
              "1       10.34  1.66    Male     No  Sun  Dinner     3\n",
              "2       21.01  3.50    Male     No  Sun  Dinner     3\n",
              "3       23.68  3.31    Male     No  Sun  Dinner     2\n",
              "4       24.59  3.61  Female     No  Sun  Dinner     4"
            ],
            "text/html": [
              "\n",
              "  <div id=\"df-8cc22051-4670-4779-98b1-02500acea84e\" class=\"colab-df-container\">\n",
              "    <div>\n",
              "<style scoped>\n",
              "    .dataframe tbody tr th:only-of-type {\n",
              "        vertical-align: middle;\n",
              "    }\n",
              "\n",
              "    .dataframe tbody tr th {\n",
              "        vertical-align: top;\n",
              "    }\n",
              "\n",
              "    .dataframe thead th {\n",
              "        text-align: right;\n",
              "    }\n",
              "</style>\n",
              "<table border=\"1\" class=\"dataframe\">\n",
              "  <thead>\n",
              "    <tr style=\"text-align: right;\">\n",
              "      <th></th>\n",
              "      <th>total_bill</th>\n",
              "      <th>tip</th>\n",
              "      <th>sex</th>\n",
              "      <th>smoker</th>\n",
              "      <th>day</th>\n",
              "      <th>time</th>\n",
              "      <th>size</th>\n",
              "    </tr>\n",
              "  </thead>\n",
              "  <tbody>\n",
              "    <tr>\n",
              "      <th>0</th>\n",
              "      <td>16.99</td>\n",
              "      <td>1.01</td>\n",
              "      <td>Female</td>\n",
              "      <td>No</td>\n",
              "      <td>Sun</td>\n",
              "      <td>Dinner</td>\n",
              "      <td>2</td>\n",
              "    </tr>\n",
              "    <tr>\n",
              "      <th>1</th>\n",
              "      <td>10.34</td>\n",
              "      <td>1.66</td>\n",
              "      <td>Male</td>\n",
              "      <td>No</td>\n",
              "      <td>Sun</td>\n",
              "      <td>Dinner</td>\n",
              "      <td>3</td>\n",
              "    </tr>\n",
              "    <tr>\n",
              "      <th>2</th>\n",
              "      <td>21.01</td>\n",
              "      <td>3.50</td>\n",
              "      <td>Male</td>\n",
              "      <td>No</td>\n",
              "      <td>Sun</td>\n",
              "      <td>Dinner</td>\n",
              "      <td>3</td>\n",
              "    </tr>\n",
              "    <tr>\n",
              "      <th>3</th>\n",
              "      <td>23.68</td>\n",
              "      <td>3.31</td>\n",
              "      <td>Male</td>\n",
              "      <td>No</td>\n",
              "      <td>Sun</td>\n",
              "      <td>Dinner</td>\n",
              "      <td>2</td>\n",
              "    </tr>\n",
              "    <tr>\n",
              "      <th>4</th>\n",
              "      <td>24.59</td>\n",
              "      <td>3.61</td>\n",
              "      <td>Female</td>\n",
              "      <td>No</td>\n",
              "      <td>Sun</td>\n",
              "      <td>Dinner</td>\n",
              "      <td>4</td>\n",
              "    </tr>\n",
              "  </tbody>\n",
              "</table>\n",
              "</div>\n",
              "    <div class=\"colab-df-buttons\">\n",
              "\n",
              "  <div class=\"colab-df-container\">\n",
              "    <button class=\"colab-df-convert\" onclick=\"convertToInteractive('df-8cc22051-4670-4779-98b1-02500acea84e')\"\n",
              "            title=\"Convert this dataframe to an interactive table.\"\n",
              "            style=\"display:none;\">\n",
              "\n",
              "  <svg xmlns=\"http://www.w3.org/2000/svg\" height=\"24px\" viewBox=\"0 -960 960 960\">\n",
              "    <path d=\"M120-120v-720h720v720H120Zm60-500h600v-160H180v160Zm220 220h160v-160H400v160Zm0 220h160v-160H400v160ZM180-400h160v-160H180v160Zm440 0h160v-160H620v160ZM180-180h160v-160H180v160Zm440 0h160v-160H620v160Z\"/>\n",
              "  </svg>\n",
              "    </button>\n",
              "\n",
              "  <style>\n",
              "    .colab-df-container {\n",
              "      display:flex;\n",
              "      gap: 12px;\n",
              "    }\n",
              "\n",
              "    .colab-df-convert {\n",
              "      background-color: #E8F0FE;\n",
              "      border: none;\n",
              "      border-radius: 50%;\n",
              "      cursor: pointer;\n",
              "      display: none;\n",
              "      fill: #1967D2;\n",
              "      height: 32px;\n",
              "      padding: 0 0 0 0;\n",
              "      width: 32px;\n",
              "    }\n",
              "\n",
              "    .colab-df-convert:hover {\n",
              "      background-color: #E2EBFA;\n",
              "      box-shadow: 0px 1px 2px rgba(60, 64, 67, 0.3), 0px 1px 3px 1px rgba(60, 64, 67, 0.15);\n",
              "      fill: #174EA6;\n",
              "    }\n",
              "\n",
              "    .colab-df-buttons div {\n",
              "      margin-bottom: 4px;\n",
              "    }\n",
              "\n",
              "    [theme=dark] .colab-df-convert {\n",
              "      background-color: #3B4455;\n",
              "      fill: #D2E3FC;\n",
              "    }\n",
              "\n",
              "    [theme=dark] .colab-df-convert:hover {\n",
              "      background-color: #434B5C;\n",
              "      box-shadow: 0px 1px 3px 1px rgba(0, 0, 0, 0.15);\n",
              "      filter: drop-shadow(0px 1px 2px rgba(0, 0, 0, 0.3));\n",
              "      fill: #FFFFFF;\n",
              "    }\n",
              "  </style>\n",
              "\n",
              "    <script>\n",
              "      const buttonEl =\n",
              "        document.querySelector('#df-8cc22051-4670-4779-98b1-02500acea84e button.colab-df-convert');\n",
              "      buttonEl.style.display =\n",
              "        google.colab.kernel.accessAllowed ? 'block' : 'none';\n",
              "\n",
              "      async function convertToInteractive(key) {\n",
              "        const element = document.querySelector('#df-8cc22051-4670-4779-98b1-02500acea84e');\n",
              "        const dataTable =\n",
              "          await google.colab.kernel.invokeFunction('convertToInteractive',\n",
              "                                                    [key], {});\n",
              "        if (!dataTable) return;\n",
              "\n",
              "        const docLinkHtml = 'Like what you see? Visit the ' +\n",
              "          '<a target=\"_blank\" href=https://colab.research.google.com/notebooks/data_table.ipynb>data table notebook</a>'\n",
              "          + ' to learn more about interactive tables.';\n",
              "        element.innerHTML = '';\n",
              "        dataTable['output_type'] = 'display_data';\n",
              "        await google.colab.output.renderOutput(dataTable, element);\n",
              "        const docLink = document.createElement('div');\n",
              "        docLink.innerHTML = docLinkHtml;\n",
              "        element.appendChild(docLink);\n",
              "      }\n",
              "    </script>\n",
              "  </div>\n",
              "\n",
              "\n",
              "<div id=\"df-bec8c8af-914f-455d-a24e-a1b060e44b65\">\n",
              "  <button class=\"colab-df-quickchart\" onclick=\"quickchart('df-bec8c8af-914f-455d-a24e-a1b060e44b65')\"\n",
              "            title=\"Suggest charts\"\n",
              "            style=\"display:none;\">\n",
              "\n",
              "<svg xmlns=\"http://www.w3.org/2000/svg\" height=\"24px\"viewBox=\"0 0 24 24\"\n",
              "     width=\"24px\">\n",
              "    <g>\n",
              "        <path d=\"M19 3H5c-1.1 0-2 .9-2 2v14c0 1.1.9 2 2 2h14c1.1 0 2-.9 2-2V5c0-1.1-.9-2-2-2zM9 17H7v-7h2v7zm4 0h-2V7h2v10zm4 0h-2v-4h2v4z\"/>\n",
              "    </g>\n",
              "</svg>\n",
              "  </button>\n",
              "\n",
              "<style>\n",
              "  .colab-df-quickchart {\n",
              "      --bg-color: #E8F0FE;\n",
              "      --fill-color: #1967D2;\n",
              "      --hover-bg-color: #E2EBFA;\n",
              "      --hover-fill-color: #174EA6;\n",
              "      --disabled-fill-color: #AAA;\n",
              "      --disabled-bg-color: #DDD;\n",
              "  }\n",
              "\n",
              "  [theme=dark] .colab-df-quickchart {\n",
              "      --bg-color: #3B4455;\n",
              "      --fill-color: #D2E3FC;\n",
              "      --hover-bg-color: #434B5C;\n",
              "      --hover-fill-color: #FFFFFF;\n",
              "      --disabled-bg-color: #3B4455;\n",
              "      --disabled-fill-color: #666;\n",
              "  }\n",
              "\n",
              "  .colab-df-quickchart {\n",
              "    background-color: var(--bg-color);\n",
              "    border: none;\n",
              "    border-radius: 50%;\n",
              "    cursor: pointer;\n",
              "    display: none;\n",
              "    fill: var(--fill-color);\n",
              "    height: 32px;\n",
              "    padding: 0;\n",
              "    width: 32px;\n",
              "  }\n",
              "\n",
              "  .colab-df-quickchart:hover {\n",
              "    background-color: var(--hover-bg-color);\n",
              "    box-shadow: 0 1px 2px rgba(60, 64, 67, 0.3), 0 1px 3px 1px rgba(60, 64, 67, 0.15);\n",
              "    fill: var(--button-hover-fill-color);\n",
              "  }\n",
              "\n",
              "  .colab-df-quickchart-complete:disabled,\n",
              "  .colab-df-quickchart-complete:disabled:hover {\n",
              "    background-color: var(--disabled-bg-color);\n",
              "    fill: var(--disabled-fill-color);\n",
              "    box-shadow: none;\n",
              "  }\n",
              "\n",
              "  .colab-df-spinner {\n",
              "    border: 2px solid var(--fill-color);\n",
              "    border-color: transparent;\n",
              "    border-bottom-color: var(--fill-color);\n",
              "    animation:\n",
              "      spin 1s steps(1) infinite;\n",
              "  }\n",
              "\n",
              "  @keyframes spin {\n",
              "    0% {\n",
              "      border-color: transparent;\n",
              "      border-bottom-color: var(--fill-color);\n",
              "      border-left-color: var(--fill-color);\n",
              "    }\n",
              "    20% {\n",
              "      border-color: transparent;\n",
              "      border-left-color: var(--fill-color);\n",
              "      border-top-color: var(--fill-color);\n",
              "    }\n",
              "    30% {\n",
              "      border-color: transparent;\n",
              "      border-left-color: var(--fill-color);\n",
              "      border-top-color: var(--fill-color);\n",
              "      border-right-color: var(--fill-color);\n",
              "    }\n",
              "    40% {\n",
              "      border-color: transparent;\n",
              "      border-right-color: var(--fill-color);\n",
              "      border-top-color: var(--fill-color);\n",
              "    }\n",
              "    60% {\n",
              "      border-color: transparent;\n",
              "      border-right-color: var(--fill-color);\n",
              "    }\n",
              "    80% {\n",
              "      border-color: transparent;\n",
              "      border-right-color: var(--fill-color);\n",
              "      border-bottom-color: var(--fill-color);\n",
              "    }\n",
              "    90% {\n",
              "      border-color: transparent;\n",
              "      border-bottom-color: var(--fill-color);\n",
              "    }\n",
              "  }\n",
              "</style>\n",
              "\n",
              "  <script>\n",
              "    async function quickchart(key) {\n",
              "      const quickchartButtonEl =\n",
              "        document.querySelector('#' + key + ' button');\n",
              "      quickchartButtonEl.disabled = true;  // To prevent multiple clicks.\n",
              "      quickchartButtonEl.classList.add('colab-df-spinner');\n",
              "      try {\n",
              "        const charts = await google.colab.kernel.invokeFunction(\n",
              "            'suggestCharts', [key], {});\n",
              "      } catch (error) {\n",
              "        console.error('Error during call to suggestCharts:', error);\n",
              "      }\n",
              "      quickchartButtonEl.classList.remove('colab-df-spinner');\n",
              "      quickchartButtonEl.classList.add('colab-df-quickchart-complete');\n",
              "    }\n",
              "    (() => {\n",
              "      let quickchartButtonEl =\n",
              "        document.querySelector('#df-bec8c8af-914f-455d-a24e-a1b060e44b65 button');\n",
              "      quickchartButtonEl.style.display =\n",
              "        google.colab.kernel.accessAllowed ? 'block' : 'none';\n",
              "    })();\n",
              "  </script>\n",
              "</div>\n",
              "\n",
              "    </div>\n",
              "  </div>\n"
            ],
            "application/vnd.google.colaboratory.intrinsic+json": {
              "type": "dataframe",
              "variable_name": "df",
              "summary": "{\n  \"name\": \"df\",\n  \"rows\": 244,\n  \"fields\": [\n    {\n      \"column\": \"total_bill\",\n      \"properties\": {\n        \"dtype\": \"number\",\n        \"std\": 8.902411954856856,\n        \"min\": 3.07,\n        \"max\": 50.81,\n        \"num_unique_values\": 229,\n        \"samples\": [\n          22.12,\n          20.23,\n          14.78\n        ],\n        \"semantic_type\": \"\",\n        \"description\": \"\"\n      }\n    },\n    {\n      \"column\": \"tip\",\n      \"properties\": {\n        \"dtype\": \"number\",\n        \"std\": 1.3836381890011822,\n        \"min\": 1.0,\n        \"max\": 10.0,\n        \"num_unique_values\": 123,\n        \"samples\": [\n          3.35,\n          1.5,\n          6.73\n        ],\n        \"semantic_type\": \"\",\n        \"description\": \"\"\n      }\n    },\n    {\n      \"column\": \"sex\",\n      \"properties\": {\n        \"dtype\": \"category\",\n        \"num_unique_values\": 2,\n        \"samples\": [\n          \"Male\",\n          \"Female\"\n        ],\n        \"semantic_type\": \"\",\n        \"description\": \"\"\n      }\n    },\n    {\n      \"column\": \"smoker\",\n      \"properties\": {\n        \"dtype\": \"category\",\n        \"num_unique_values\": 2,\n        \"samples\": [\n          \"Yes\",\n          \"No\"\n        ],\n        \"semantic_type\": \"\",\n        \"description\": \"\"\n      }\n    },\n    {\n      \"column\": \"day\",\n      \"properties\": {\n        \"dtype\": \"category\",\n        \"num_unique_values\": 4,\n        \"samples\": [\n          \"Sat\",\n          \"Fri\"\n        ],\n        \"semantic_type\": \"\",\n        \"description\": \"\"\n      }\n    },\n    {\n      \"column\": \"time\",\n      \"properties\": {\n        \"dtype\": \"category\",\n        \"num_unique_values\": 2,\n        \"samples\": [\n          \"Lunch\",\n          \"Dinner\"\n        ],\n        \"semantic_type\": \"\",\n        \"description\": \"\"\n      }\n    },\n    {\n      \"column\": \"size\",\n      \"properties\": {\n        \"dtype\": \"number\",\n        \"std\": 0,\n        \"min\": 1,\n        \"max\": 6,\n        \"num_unique_values\": 6,\n        \"samples\": [\n          2,\n          3\n        ],\n        \"semantic_type\": \"\",\n        \"description\": \"\"\n      }\n    }\n  ]\n}"
            }
          },
          "metadata": {},
          "execution_count": 25
        }
      ],
      "source": [
        "# 7. Use seaborn library to load “tips” dataset. Find the following from the dataset for the columns \"total _bill\"\n",
        "# and 'tip'\n",
        "\n",
        "df = sns.load_dataset(\"tips\")\n",
        "df.head()"
      ]
    },
    {
      "cell_type": "code",
      "execution_count": 26,
      "id": "98bb89ba-8c2b-422d-b406-4cd427c7491f",
      "metadata": {
        "colab": {
          "base_uri": "https://localhost:8080/"
        },
        "id": "98bb89ba-8c2b-422d-b406-4cd427c7491f",
        "outputId": "9eed3685-e522-4dff-810c-f2c39117d085"
      },
      "outputs": [
        {
          "output_type": "stream",
          "name": "stdout",
          "text": [
            "Skewness of 'total_bill': 1.1332130376158205\n",
            "Skewness of 'tip': 1.4654510370979401\n"
          ]
        }
      ],
      "source": [
        "# (i) Write a Python function that calculates their skewness.\n",
        "\n",
        "def calculate_skewness(data):\n",
        "    return data.skew()\n",
        "\n",
        "print(f\"Skewness of 'total_bill': {calculate_skewness(df['total_bill'])}\")\n",
        "print(f\"Skewness of 'tip': {calculate_skewness(df['tip'])}\")"
      ]
    },
    {
      "cell_type": "code",
      "execution_count": 27,
      "id": "8ee5a67a-ff7c-4c33-a131-c37a97b0175f",
      "metadata": {
        "colab": {
          "base_uri": "https://localhost:8080/"
        },
        "id": "8ee5a67a-ff7c-4c33-a131-c37a97b0175f",
        "outputId": "cdb1eff6-cfcb-453f-ae13-46e5a5f4d61d"
      },
      "outputs": [
        {
          "output_type": "stream",
          "name": "stdout",
          "text": [
            "'Total_bill' has Positive Skewness\n",
            "'Tip' has Positive Skewness\n"
          ]
        }
      ],
      "source": [
        "# (ii) Create a program that determines whether the columns exhibit positive skewness, negative skewness, or is\n",
        "# approximately symmetric.\n",
        "\n",
        "def determine_skewness(skewness):\n",
        "    if skewness > 0.5:\n",
        "        return 'Positive Skewness'\n",
        "    elif skewness < -0.5:\n",
        "        return 'Negative Skewness'\n",
        "    else:\n",
        "        return 'Approximately Symmetric'\n",
        "\n",
        "print(f\"'Total_bill' has {determine_skewness(calculate_skewness(df['total_bill']))}\")\n",
        "print(f\"'Tip' has {determine_skewness(calculate_skewness(df['tip']))}\")"
      ]
    },
    {
      "cell_type": "code",
      "execution_count": 28,
      "id": "4780fe65-081e-489c-a79f-548cfd7cb7b7",
      "metadata": {
        "colab": {
          "base_uri": "https://localhost:8080/"
        },
        "id": "4780fe65-081e-489c-a79f-548cfd7cb7b7",
        "outputId": "063bd2d0-24d5-4772-a9c9-6b646d70bafc"
      },
      "outputs": [
        {
          "output_type": "stream",
          "name": "stdout",
          "text": [
            "the covariance between 'total_bill' and 'tip' is 8.323501629224854\n"
          ]
        }
      ],
      "source": [
        "# (iii) write a function that calculates the covariance between two columns\n",
        "\n",
        "def calculate_covariance(data, col1, col2):\n",
        "\n",
        "    return data[col1].cov(data[col2])\n",
        "\n",
        "print(f\"the covariance between 'total_bill' and 'tip' is {calculate_covariance(df, 'total_bill', 'tip')}\")"
      ]
    },
    {
      "cell_type": "code",
      "execution_count": 29,
      "id": "e7f563e0-ba3c-4e80-89d3-56444af2d3bd",
      "metadata": {
        "colab": {
          "base_uri": "https://localhost:8080/"
        },
        "id": "e7f563e0-ba3c-4e80-89d3-56444af2d3bd",
        "outputId": "a0c32d89-3524-42f6-ed58-ec4ae984731f"
      },
      "outputs": [
        {
          "output_type": "stream",
          "name": "stdout",
          "text": [
            "the covariance between 'total_bill' and 'tip' is 0.6757341092113641\n"
          ]
        }
      ],
      "source": [
        "# (iv) Implement a Python program that calculates the Pearson correlation coefficient between two columns.\n",
        "\n",
        "def calculate_correlation_coefficient(data, col1, col2):\n",
        "\n",
        "    return data[col1].corr(data[col2])\n",
        "\n",
        "print(f\"the covariance between 'total_bill' and 'tip' is {calculate_correlation_coefficient(df, 'total_bill', 'tip')}\")"
      ]
    },
    {
      "cell_type": "code",
      "execution_count": 30,
      "id": "6d1e75a1-da6c-44fa-b2e9-d7423febcb24",
      "metadata": {
        "colab": {
          "base_uri": "https://localhost:8080/",
          "height": 472
        },
        "id": "6d1e75a1-da6c-44fa-b2e9-d7423febcb24",
        "outputId": "be4771a9-15fd-4058-f912-05edad572a0e"
      },
      "outputs": [
        {
          "output_type": "display_data",
          "data": {
            "text/plain": [
              "<Figure size 640x480 with 1 Axes>"
            ],
            "image/png": "[encoded data removed]"
          },
          "metadata": {}
        }
      ],
      "source": [
        "# (v) Write a script to visualize the correlation between two specific columns in a Pandas DataFrame using\n",
        "# scatter plots.\n",
        "\n",
        "def visualize_correlation(data, col1, col2):\n",
        "    sns.scatterplot(x=col1, y=col2, data=data)\n",
        "    plt.title(f\"Scatter Plot of {col1} vs {col2}\")\n",
        "    plt.xlabel(col1)\n",
        "    plt.ylabel(col2)\n",
        "    plt.show()\n",
        "\n",
        "\n",
        "visualize_correlation(df, 'total_bill', 'tip')"
      ]
    },
    {
      "cell_type": "code",
      "execution_count": 33,
      "id": "7a806229-a59d-4269-976b-b623a300aeb3",
      "metadata": {
        "colab": {
          "base_uri": "https://localhost:8080/"
        },
        "id": "7a806229-a59d-4269-976b-b623a300aeb3",
        "outputId": "10c1072c-516a-4849-ea1e-dee9a0eceab1"
      },
      "outputs": [
        {
          "output_type": "execute_result",
          "data": {
            "text/plain": [
              "[2.597436189404629,\n",
              " 2.33226150176391,\n",
              " 3.1358644243191405,\n",
              " 3.208803154186819,\n",
              " 3.1394059908906717,\n",
              " 2.834636402399005,\n",
              " 3.1885361448368803,\n",
              " 2.6301692702484973,\n",
              " 1.8767624233842657,\n",
              " 3.1125375782283022,\n",
              " 2.9835218316597403,\n",
              " 2.590511270117954,\n",
              " 1.9853376856819767,\n",
              " 1.172102070125311,\n",
              " 0.987577276702685,\n",
              " 2.64906879836665,\n",
              " 1.5053551930517053,\n",
              " 2.4177316336905696,\n",
              " 2.676412758567168,\n",
              " 2.197727288821561,\n",
              " 3.07561365641837,\n",
              " 3.205748420935935,\n",
              " 1.842723414661765,\n",
              " 3.0927315400087467,\n",
              " 2.2607728813501202,\n",
              " 2.27484878464178,\n",
              " 2.9239203729912795,\n",
              " 1.3792190348568223,\n",
              " 2.889429235809454,\n",
              " 2.3890015610326913,\n",
              " 2.5316440481478195,\n",
              " 0.39641085652120667,\n",
              " 3.207463366827853,\n",
              " 3.0251510722868677,\n",
              " 2.4165621488064586,\n",
              " 2.6531325882503465,\n",
              " 0.9755615189439782,\n",
              " 2.043933792648364,\n",
              " 0.6177570520406819,\n",
              " 3.0347209988201174,\n",
              " 2.6057583356935345,\n",
              " 2.7770581066222473,\n",
              " 2.979196999632549,\n",
              " 3.0630574596623634,\n",
              " 3.1167462378271664,\n",
              " 0.715665470229202,\n",
              " 0.5333769316653374,\n",
              " 2.9000833695539123,\n",
              " 2.5734353848455305,\n",
              " 2.2290939664469973,\n",
              " 2.490498858019131,\n",
              " 2.050150028893077,\n",
              " 3.192888992026029,\n",
              " 2.9327634820410644,\n",
              " 3.038026822864536,\n",
              " 0.31917314033836724,\n",
              " 0.6439576135203933,\n",
              " 3.2240705258278752,\n",
              " 2.8237361115377526,\n",
              " 3.2233932663231526,\n",
              " 2.083210898577879,\n",
              " 2.368996433708103,\n",
              " 2.443342326735112,\n",
              " 2.054141636436439,\n",
              " 2.502861601555516,\n",
              " 3.0788472530745823,\n",
              " 3.0421383478680446,\n",
              " 2.402443524732787,\n",
              " 3.14436127204806,\n",
              " 2.249945499507594,\n",
              " 1.0824460246292407,\n",
              " 3.1206557670580954,\n",
              " 3.1265560780112556,\n",
              " 3.196551470418565,\n",
              " 3.210791769219772,\n",
              " 3.1644701189999207,\n",
              " 2.726039383802154,\n",
              " 3.178125690710965,\n",
              " 0.9283338350705868,\n",
              " 3.0913166750190797,\n",
              " 3.2206411652135563,\n",
              " 3.1362922414041194,\n",
              " 3.2130001551449774,\n",
              " 0.20591166784679657,\n",
              " 2.0839655378651183,\n",
              " 1.0483474942408777,\n",
              " 3.0377606004558935,\n",
              " 3.2212261998183305,\n",
              " 2.5596742970314317,\n",
              " 2.9723050190580866,\n",
              " 3.2197699902248345,\n",
              " 1.1302979403221658,\n",
              " 2.9921872303692343,\n",
              " 0.08606903552930852,\n",
              " 2.942185547555863,\n",
              " 1.0005811615953653,\n",
              " 1.7517716200049456,\n",
              " 3.1138141873112937,\n",
              " 3.2201507078833482,\n",
              " 2.932519436998369,\n",
              " 3.2243027214628928,\n",
              " 3.224037126011278,\n",
              " 3.212319122125696,\n",
              " 3.0819997846813947,\n",
              " 0.06484699237860869,\n",
              " 0.30390777719186873,\n",
              " 1.9956541942766788,\n",
              " 1.9300464306312464,\n",
              " 2.880784903482544,\n",
              " 2.9046693657369542,\n",
              " 1.3567796184079484,\n",
              " 3.2245966849268335,\n",
              " 1.1436402519569404,\n",
              " 2.725836571395668,\n",
              " 3.218825643164031,\n",
              " 0.3294868172190542,\n",
              " 3.2248093659881123,\n",
              " 3.076522901622446,\n",
              " 2.255560399195824,\n",
              " 3.207663791299128,\n",
              " 2.7164430573766776,\n",
              " 2.273779653085759,\n",
              " 3.224192739309903,\n",
              " 0.02797910138119079,\n",
              " 1.2469432220642676,\n",
              " 2.4381567706656995,\n",
              " 3.2244398135316374,\n",
              " 2.52797137754592,\n",
              " 2.6635484912951446,\n",
              " 0.6419420197001022,\n",
              " 2.0243687566327293,\n",
              " 1.317026605933324,\n",
              " 3.0785416282435114,\n",
              " 1.4703303572150865,\n",
              " 0.6187865586458574,\n",
              " 0.4829900945404493,\n",
              " 3.018411260041985,\n",
              " 2.7749039487399068,\n",
              " 3.1858639721711515,\n",
              " 1.8671499166471226,\n",
              " 3.217110500556707,\n",
              " 1.6163823417692151,\n",
              " 1.561484189182591,\n",
              " 3.1201772735555897,\n",
              " 0.3405952070952504,\n",
              " 1.8440764002861472,\n",
              " 3.2194379750802766,\n",
              " 1.2924193500959238,\n",
              " 2.814394257523587,\n",
              " 2.94342434015374,\n",
              " 2.6193384049213053,\n",
              " 0.8768737578536837,\n",
              " 3.0164435207012237,\n",
              " 3.177178346449665,\n",
              " 2.3846568260180416,\n",
              " 3.0244158665136633,\n",
              " 3.040080540183204,\n",
              " 1.4242391742368834,\n",
              " 1.1509232534406486,\n",
              " 2.9284196164298613,\n",
              " 3.2246845918848375,\n",
              " 2.6856248806186227,\n",
              " 1.557663377800596,\n",
              " 3.1930169888222246,\n",
              " 3.1062792945313036,\n",
              " 2.3565865317912964,\n",
              " 1.934275958892262,\n",
              " 2.9973953318728164,\n",
              " 1.2659752005016778,\n",
              " 3.095357001257714,\n",
              " 3.07696840768214,\n",
              " 3.2148020838767684,\n",
              " 1.4223747961279625,\n",
              " 1.3880057502707173,\n",
              " 1.8687918048765604,\n",
              " 3.0523176653231174,\n",
              " 1.0079632850330424,\n",
              " 3.066974866124637,\n",
              " 3.202781629663971,\n",
              " 0.11534040560446464,\n",
              " 3.1282593817155653,\n",
              " 2.8750941086241073,\n",
              " 3.213909448852748,\n",
              " 3.044176822076037,\n",
              " 2.0131731621435693,\n",
              " 1.4418582473382262,\n",
              " 2.9588801834053804,\n",
              " 2.9520648163300143,\n",
              " 1.9876443376289594,\n",
              " 3.1953079777277695,\n",
              " 0.37690255566637604,\n",
              " 3.219899326586729,\n",
              " 1.6791804056767659,\n",
              " 2.6552346454831475,\n",
              " 2.7968731411908543,\n",
              " 0.20521842122830172,\n",
              " 1.3962281798924223,\n",
              " 2.4954658189905183,\n",
              " 0.04985035375680632,\n",
              " 2.824626434273357,\n",
              " 1.4878607219037818,\n",
              " 2.278975907622747,\n",
              " 2.87306655190688,\n",
              " 1.417986954790324,\n",
              " 2.24907988077397,\n",
              " 3.098776318890771,\n",
              " 3.1757806160784834,\n",
              " 1.3360524329633356,\n",
              " 2.624802843723179,\n",
              " 2.995172171862408,\n",
              " 2.999448734752022,\n",
              " 3.0965911678409412,\n",
              " 2.991838684469031,\n",
              " 3.053837570418977,\n",
              " 3.220261721727662,\n",
              " 0.8926442332837679,\n",
              " 3.2215788754015793,\n",
              " 3.1620617913280773,\n",
              " 2.803323461694476,\n",
              " 0.06872331950272334,\n",
              " 2.6435581006580127,\n",
              " 3.21710678665404,\n",
              " 0.23373699965718028,\n",
              " 3.0925023404911505,\n",
              " 2.9221758654845855,\n",
              " 3.151513179493907,\n",
              " 1.3855768173507623,\n",
              " 1.1526963152485308,\n",
              " 3.094347882747726,\n",
              " 2.4121478042647335,\n",
              " 2.5011040093448407,\n",
              " 2.509097094510926,\n",
              " 2.962045525917014,\n",
              " 1.2254688490029475,\n",
              " 2.466000755956903,\n",
              " 2.877401311117194,\n",
              " 2.4089510430542505,\n",
              " 0.9163785016907648,\n",
              " 2.9626692820857428,\n",
              " 2.9403195025919726,\n",
              " 3.2241982068233077,\n",
              " 2.1557122789109346,\n",
              " 0.913221696548831,\n",
              " 0.16958437865838646,\n",
              " 1.7204703286748322,\n",
              " 3.068457769174137,\n",
              " 2.7998368912811014,\n",
              " 3.0937897046551264,\n",
              " 2.9018995920029433,\n",
              " 2.449771522130924,\n",
              " 2.8518008944640614,\n",
              " 0.19971527995334912,\n",
              " 2.965466567926207,\n",
              " 2.379172237096956,\n",
              " 2.8543340903661174,\n",
              " 3.1076125481065566,\n",
              " 1.0698153683138778,\n",
              " 2.5980140130380165,\n",
              " 1.5878216701671042,\n",
              " 2.9940424587345684,\n",
              " 3.214084476142647,\n",
              " 3.198225356660251,\n",
              " 2.6507492149920906,\n",
              " 0.7514955736431471,\n",
              " 1.5681269950572305,\n",
              " 1.9920572529213412,\n",
              " 2.7076906370441876,\n",
              " 3.1337735902427077,\n",
              " 3.061251422357212,\n",
              " 3.1448502285382096,\n",
              " 1.045411859658348,\n",
              " 1.70784582881357,\n",
              " 3.1283877678717187,\n",
              " 3.201064047272758,\n",
              " 2.3157306234799697,\n",
              " 2.781212610332913,\n",
              " 2.58573136594099,\n",
              " 3.1360749102797385,\n",
              " 3.171197127519288,\n",
              " 3.1084874753411547,\n",
              " 2.2385260152869404,\n",
              " 2.7528379152191906,\n",
              " 3.0333540693491057,\n",
              " 1.5142763791658782,\n",
              " 1.7249558249976897,\n",
              " 3.1728063825744686,\n",
              " 0.04648022617256744,\n",
              " 3.211867047253616,\n",
              " 3.176711075384998,\n",
              " 2.4442623574737543,\n",
              " 2.41268901085412,\n",
              " 3.20740378174451,\n",
              " 2.996837118191993,\n",
              " 2.2289586432300283,\n",
              " 0.7770736225643811,\n",
              " 2.789984345344731,\n",
              " 3.1967041418033793,\n",
              " 1.9238244860277873,\n",
              " 3.1985756402236936,\n",
              " 3.179121379321972,\n",
              " 1.5936339783061753,\n",
              " 3.090170077926009,\n",
              " 3.1442749316332024,\n",
              " 0.28531938560408093,\n",
              " 3.1577931272337016,\n",
              " 0.841375273638555,\n",
              " 2.1094350086186315,\n",
              " 3.0610569045304925,\n",
              " 1.7006928382362212,\n",
              " 0.779529030547766,\n",
              " 3.092186777842597,\n",
              " 3.101746437719224,\n",
              " 1.5588847687879666,\n",
              " 1.9542112821202444,\n",
              " 2.3660244473284537,\n",
              " 0.1019084757492133,\n",
              " 3.2207727285435737,\n",
              " 3.2150947313100655,\n",
              " 2.7890127006633576,\n",
              " 0.5390861093865816,\n",
              " 1.186455138488549,\n",
              " 2.83938918739254,\n",
              " 2.4864118182765207,\n",
              " 3.223261259607361,\n",
              " 3.200544371265665,\n",
              " 0.4273196170575051,\n",
              " 0.9647284704508107,\n",
              " 0.4286107526243701,\n",
              " 1.1832905095819803,\n",
              " 2.5831431549084187,\n",
              " 0.4766673917660957,\n",
              " 3.014736415163127,\n",
              " 2.1762028068757986,\n",
              " 3.0834617013769465,\n",
              " 2.271400283977801,\n",
              " 3.1813874973797396,\n",
              " 2.960821634398871,\n",
              " 2.0519014318599935,\n",
              " 2.5214382515499993,\n",
              " 2.973309938647047,\n",
              " 0.9209433436912836,\n",
              " 3.051351684200065,\n",
              " 2.7536027878348337,\n",
              " 1.743530406580332,\n",
              " 2.1176010823364173,\n",
              " 2.953312236331198,\n",
              " 2.8096633186286666,\n",
              " 2.5420540239062706,\n",
              " 0.5477776157565565,\n",
              " 2.1411544485531833,\n",
              " 3.0964167856843425,\n",
              " 0.3901049348301204,\n",
              " 1.5664171877863848,\n",
              " 1.6824661206488751,\n",
              " 1.5803775601349705,\n",
              " 2.1078324554850307,\n",
              " 2.9061012203889205,\n",
              " 2.9596196617882,\n",
              " 2.6551660731779796,\n",
              " 3.072772959309865,\n",
              " 3.045796141743888,\n",
              " 3.193506785916406,\n",
              " 3.2241163203700967,\n",
              " 1.6442086519559118,\n",
              " 2.965968777247965,\n",
              " 2.89686312767971,\n",
              " 1.9640286788318373,\n",
              " 1.4099121153028422,\n",
              " 2.5595046603528058,\n",
              " 2.748401036428084,\n",
              " 2.9497990307369735,\n",
              " 1.46633524223194,\n",
              " 1.894452551735694,\n",
              " 3.017398650249572,\n",
              " 1.9370778012642533,\n",
              " 2.9480274032111344,\n",
              " 2.42809069574533,\n",
              " 0.22465075511185092,\n",
              " 1.920697953198302,\n",
              " 2.7934115520461384,\n",
              " 2.4340770387029784,\n",
              " 3.15062477587725,\n",
              " 3.2236165728434343,\n",
              " 2.5418644198974536,\n",
              " 3.068669535399836,\n",
              " 1.870894460765695,\n",
              " 3.1196746170288483,\n",
              " 3.039865432219783,\n",
              " 2.598412643846646,\n",
              " 3.2038549219639267,\n",
              " 2.8293411309795258,\n",
              " 2.13698012294803,\n",
              " 3.1223531463312257,\n",
              " 3.224216949176551,\n",
              " 1.1494628321577123,\n",
              " 2.66204303730164,\n",
              " 0.24910368795476767,\n",
              " 0.40398892087572613,\n",
              " 2.7729350588204404,\n",
              " 2.5237260493226876,\n",
              " 0.9154523745214554,\n",
              " 2.4693595207996624,\n",
              " 2.866529833124275,\n",
              " 1.7524364875648806,\n",
              " 3.2177483597592187,\n",
              " 2.9276522232077546,\n",
              " 1.1372078346356342,\n",
              " 3.10980291743638,\n",
              " 1.3769100262854639,\n",
              " 3.2129731132155586,\n",
              " 2.412865319232168,\n",
              " 1.2916955786996953,\n",
              " 3.2067972325805822,\n",
              " 0.9367941021141218,\n",
              " 3.199718524721658,\n",
              " 2.3211036515655072,\n",
              " 3.2232198538022443,\n",
              " 3.0189455285547377,\n",
              " 2.6311163062426584,\n",
              " 1.6522281547712927,\n",
              " 3.0829462370468894,\n",
              " 3.1096914101620814,\n",
              " 3.2191144253539163,\n",
              " 2.4933329075916184,\n",
              " 2.038256954026901,\n",
              " 1.6374289587899815,\n",
              " 1.896341939489929,\n",
              " 1.3779010729225427,\n",
              " 3.119816531205979,\n",
              " 3.21371997017934,\n",
              " 2.7165332834493263,\n",
              " 2.3380950161775518,\n",
              " 3.2057420331023674,\n",
              " 2.7161018923160913,\n",
              " 0.7384228340069929,\n",
              " 3.0471619492244404,\n",
              " 2.2698295941927924,\n",
              " 0.9023321502947553,\n",
              " 3.077047551854114,\n",
              " 3.0389887797749853,\n",
              " 2.3571568722617275,\n",
              " 2.1102045873226194,\n",
              " 2.6150079154628325,\n",
              " 3.2246256290413178,\n",
              " 0.7546870052048741,\n",
              " 3.008415327490245,\n",
              " 3.1754412759283808,\n",
              " 2.4890035535663153,\n",
              " 1.586120289040667,\n",
              " 1.606644184937959,\n",
              " 2.597392109795941,\n",
              " 2.852735078282669,\n",
              " 3.1881930679725983,\n",
              " 2.574332145720077,\n",
              " 1.3054554224500408,\n",
              " 0.8657245389330857,\n",
              " 2.9595836106861877,\n",
              " 0.11077363951151444,\n",
              " 3.2068685559314667,\n",
              " 3.0546332854711182,\n",
              " 3.1774246940944173,\n",
              " 3.1194981644892437,\n",
              " 3.2156336217570414,\n",
              " 2.9834626451908894,\n",
              " 1.5868595863579593,\n",
              " 1.8240032920162763,\n",
              " 3.086259126232547,\n",
              " 1.8638337211285072,\n",
              " 3.215595757216433,\n",
              " 1.0119169905897651,\n",
              " 3.024633496472562,\n",
              " 0.9666387287502588,\n",
              " 2.288322651577476,\n",
              " 3.2134689619082377,\n",
              " 0.8939474577663817,\n",
              " 0.8734943625781474,\n",
              " 2.551010762861546,\n",
              " 2.136779033317114,\n",
              " 0.9284715369501158,\n",
              " 2.9420338512525284,\n",
              " 2.8339674755960744,\n",
              " 2.720763393732555,\n",
              " 3.0320889809823117,\n",
              " 0.9116972841097738,\n",
              " 2.2578020064669193,\n",
              " 1.230052828175405,\n",
              " 3.015948467644149,\n",
              " 2.7616220854396447,\n",
              " 2.0369467531949303,\n",
              " 2.4169565939304465,\n",
              " 2.8397626211110216,\n",
              " 3.214685281574272,\n",
              " 2.762601342519068,\n",
              " 1.3520413825874211,\n",
              " 1.5003069373718272,\n",
              " 2.3134627733584052,\n",
              " 3.1409782933940362,\n",
              " 2.8314062774194304,\n",
              " 1.9420254139215736,\n",
              " 1.5560695098730846,\n",
              " 2.9342637442538155,\n",
              " 1.8360725458887304,\n",
              " 0.6992393898112378,\n",
              " 1.3316624336705216,\n",
              " 3.142954872586987,\n",
              " 2.8930439596428945,\n",
              " 2.9486312014394915,\n",
              " 1.463629939181513,\n",
              " 2.798998829566856,\n",
              " 0.951818100991495,\n",
              " 3.0528503783970833,\n",
              " 2.370914803865755,\n",
              " 3.2087095035607467,\n",
              " 0.5068512729278635,\n",
              " 3.101717859757478,\n",
              " 1.55807616388637,\n",
              " 1.4015435521144455,\n",
              " 3.0861503284254166,\n",
              " 3.0974097019076745,\n",
              " 3.048612840064768,\n",
              " 2.4270865267048607,\n",
              " 0.9509373673190661,\n",
              " 3.1694964803837298,\n",
              " 3.189449918666027,\n",
              " 3.1090411255468227,\n",
              " 2.4013596025686215,\n",
              " 0.6821659723464604,\n",
              " 0.6055206275160692,\n",
              " 0.5614905639225404,\n",
              " 3.1624392369165424,\n",
              " 2.885664991610394,\n",
              " 2.2490811909658244,\n",
              " 2.74533065675235,\n",
              " 2.880746269040994,\n",
              " 2.4724549077082076,\n",
              " 3.1194517352575213,\n",
              " 2.933353383084368,\n",
              " 0.27260411330749984,\n",
              " 1.661159606841671,\n",
              " 3.0226389524476454,\n",
              " 2.4686442666951,\n",
              " 3.2007642374171894,\n",
              " 3.2238941777252785,\n",
              " 3.1220281398809857,\n",
              " 1.0909072474762351,\n",
              " 2.8326886990395685,\n",
              " 3.0756835524994597,\n",
              " 1.9715897203103623,\n",
              " 0.5520390757657466,\n",
              " 3.1254661037832863,\n",
              " 2.0674567283767344,\n",
              " 2.899847232430311,\n",
              " 2.7338250847425494,\n",
              " 1.7271545946146805,\n",
              " 2.019311782673182,\n",
              " 2.4832678874656544,\n",
              " 3.1908468690971343,\n",
              " 2.9954238895321645,\n",
              " 3.0646132609247827,\n",
              " 0.3500144386007842,\n",
              " 3.194388245630092,\n",
              " 0.6781065156390274,\n",
              " 3.0594631345362293,\n",
              " 1.9770042272583435,\n",
              " 2.5787833142630197,\n",
              " 3.1317956065480383,\n",
              " 2.9589168360857308,\n",
              " 2.6808405351774613,\n",
              " 3.0501904469250953,\n",
              " 3.0228707663867356,\n",
              " 2.109287590482907,\n",
              " 3.1684257648569685,\n",
              " 0.035850524861522126,\n",
              " 2.0600739309190335,\n",
              " 0.9386176751225546,\n",
              " 3.114096538341115,\n",
              " 3.2067291824967583,\n",
              " 2.4728452968760246,\n",
              " 3.206277514624038,\n",
              " 3.224857899132363,\n",
              " 1.241913187807778,\n",
              " 2.9118675596699095,\n",
              " 1.8374974049142077,\n",
              " 3.048031637719861,\n",
              " 2.421960440135834,\n",
              " 3.090578871121641,\n",
              " 0.6192760079475341,\n",
              " 3.0818936726017045,\n",
              " 1.0773133566047013,\n",
              " 2.007558193054061,\n",
              " 2.949189023741458,\n",
              " 3.072828355729363,\n",
              " 2.2774658993768835,\n",
              " 1.6051071961931085,\n",
              " 3.207484130018264,\n",
              " 3.2228242988481246,\n",
              " 2.007894532396345,\n",
              " 2.467526387009216,\n",
              " 0.2481656894699621,\n",
              " 3.2045750027284234,\n",
              " 2.7194376253627133,\n",
              " 0.42386544128207515,\n",
              " 1.2115885650934974,\n",
              " 3.2212507315262497,\n",
              " 1.9337037011433977,\n",
              " 2.413430901400892,\n",
              " 1.4965276331295907,\n",
              " 1.0157871564234786,\n",
              " 2.3119828506353395,\n",
              " 2.8839745745252197,\n",
              " 2.5338634115980456,\n",
              " 0.18796893127920314,\n",
              " 3.221680095424038,\n",
              " 1.9772301990001742,\n",
              " 2.765473766763265,\n",
              " 3.1306327892940744,\n",
              " 1.6296681957261316,\n",
              " 3.0404575441361357,\n",
              " 3.219642772220061,\n",
              " 1.4554583785666213,\n",
              " 2.504273855208303,\n",
              " 0.9545145617073089,\n",
              " 3.219816319739754,\n",
              " 3.2102103027508853,\n",
              " 2.94890690826378,\n",
              " 2.8849313525009017,\n",
              " 2.6849353289565423,\n",
              " 1.221003979195049,\n",
              " 2.7333428692764934,\n",
              " 1.7904407482093263,\n",
              " 2.7148872743464936,\n",
              " 1.7131348649663274,\n",
              " 2.161043171909373,\n",
              " 2.279208743190596,\n",
              " 2.4750483567684176,\n",
              " 1.5309328942466547,\n",
              " 0.9289746851264569,\n",
              " 3.2240086443034714,\n",
              " 1.3520491248478161,\n",
              " 3.2195168298853902,\n",
              " 1.3382059993286854,\n",
              " 3.166420873901773,\n",
              " 3.1893007865976286,\n",
              " 0.9188060725081887,\n",
              " 1.9384376104695378,\n",
              " 2.8667322397513915,\n",
              " 1.6069438030279766,\n",
              " 2.1083192894428597,\n",
              " 2.9932916147775743,\n",
              " 2.575125620576943,\n",
              " 2.9029334574254726,\n",
              " 2.0795810284193195,\n",
              " 1.5613147512020973,\n",
              " 3.2144652242199143,\n",
              " 1.3662678774840247,\n",
              " 2.0749955260588795,\n",
              " 2.6694693920648636,\n",
              " 1.6245232197851514,\n",
              " 3.222141797666913,\n",
              " 2.929965435148607,\n",
              " 1.9927516271409007,\n",
              " 0.5545257202864987,\n",
              " 1.3167286087549772,\n",
              " 3.207083343967528,\n",
              " 3.207429121938169,\n",
              " 1.3294754265860789,\n",
              " 1.3294124221558803,\n",
              " 2.9777356251160754,\n",
              " 2.5257644201800113,\n",
              " 3.1225199557036376,\n",
              " 1.978509122447212,\n",
              " 2.3917087253576486,\n",
              " 2.601416382293662,\n",
              " 2.2437938072443093,\n",
              " 1.8119295602167402,\n",
              " 2.797562134799005,\n",
              " 1.8269869262258411,\n",
              " 2.849269886561086,\n",
              " 3.2089056958503224,\n",
              " 3.2174038613027776,\n",
              " 0.20128507888409966,\n",
              " 2.431817003591767,\n",
              " 1.8284769727775958,\n",
              " 2.12955145561807,\n",
              " 2.7176619825705877,\n",
              " 0.49620096354802656,\n",
              " 2.791829476914068,\n",
              " 0.04876886318106256,\n",
              " 2.081384737037023,\n",
              " 1.8150579979938388,\n",
              " 2.1006131995765487,\n",
              " 2.819763881783483,\n",
              " 1.667329329255647,\n",
              " 1.0754209136262303,\n",
              " 2.0129972276072374,\n",
              " 2.4788646318789267,\n",
              " 1.5594283468759385,\n",
              " 1.4380123943710583,\n",
              " 3.1549789141422,\n",
              " 2.3768895698081094,\n",
              " 3.2245732936637093,\n",
              " 2.481678594852188,\n",
              " 2.5789401949310147,\n",
              " 3.2091005343920638,\n",
              " 2.97392556196206,\n",
              " 1.2387560368086845,\n",
              " 3.1024714766489847,\n",
              " 2.535716907293936,\n",
              " 1.9570237919715752,\n",
              " 1.805542312834621,\n",
              " 2.026115587907418,\n",
              " 1.5548269655068252,\n",
              " 2.926137189135137,\n",
              " 0.6928834558800927,\n",
              " 3.222596877503811,\n",
              " 2.5727337114821847,\n",
              " 2.2457965782574445,\n",
              " 0.2084251629804646,\n",
              " 0.4924811180214552,\n",
              " 1.634618301275067,\n",
              " 2.7879294465510287,\n",
              " 2.4094496428007486,\n",
              " 3.071177191193381,\n",
              " 2.948710000724427,\n",
              " 2.657587288536093,\n",
              " 2.5505973378425155,\n",
              " 3.208272509936766,\n",
              " 1.1099618589958435,\n",
              " 1.2049530678987979,\n",
              " 0.8215513337860566,\n",
              " 2.7370586121873033,\n",
              " 3.139796748445574,\n",
              " 0.06924160679152129,\n",
              " 3.1693813987986084,\n",
              " 2.0087913117153335,\n",
              " 2.998261447845207,\n",
              " 3.1168735849379328,\n",
              " 0.6899038765077901,\n",
              " 1.0734029656756856,\n",
              " 3.0216475191795604,\n",
              " 2.669267757498996,\n",
              " 2.3705944838487967,\n",
              " 3.1407080621667034,\n",
              " 2.537096415571047,\n",
              " 2.5277447911313753,\n",
              " 2.851109594644651,\n",
              " 1.1454930172121591,\n",
              " 2.882866989214375,\n",
              " 3.166490333120929,\n",
              " 3.223402827128372,\n",
              " 2.4164494114514072,\n",
              " 2.003359416523214,\n",
              " 1.069572239612762,\n",
              " 0.3117322469188646,\n",
              " 3.106899122502147,\n",
              " 1.6683589594936932,\n",
              " 3.078044142859831,\n",
              " 3.2031704969190122,\n",
              " 3.1149589335952013,\n",
              " 2.2884340781826635,\n",
              " 0.5119135136016492,\n",
              " 1.6370885206848202,\n",
              " 0.7711523026728065,\n",
              " 1.1316246870818196,\n",
              " 0.26293681543324704,\n",
              " 2.6092098619004753,\n",
              " 3.0647928554777204,\n",
              " 2.6222592280986334,\n",
              " 3.1924592177161117,\n",
              " 2.0982060158508538,\n",
              " 3.2112716980886837,\n",
              " 2.917856079906358,\n",
              " 1.4855248857958037,\n",
              " 1.9653184483231851,\n",
              " 2.4488826502627203,\n",
              " 1.9467941757783418,\n",
              " 0.7873260289216522,\n",
              " 3.02296519123289,\n",
              " 3.2188561678371843,\n",
              " 0.350271860790229,\n",
              " 1.4651065071482945,\n",
              " 3.2204536506683703,\n",
              " 2.832793973309995,\n",
              " 3.2244936863813582,\n",
              " 2.876358656966945,\n",
              " 2.5763698486365736,\n",
              " 1.9279326698881838,\n",
              " 1.5780877538378175,\n",
              " 2.7514460628783413,\n",
              " 3.203239561474765,\n",
              " 2.0657837357176265,\n",
              " 2.0697382833921343,\n",
              " 0.6403976323959437,\n",
              " 2.819900856957149,\n",
              " 1.8362977963700575,\n",
              " 2.0808971659198288,\n",
              " 3.208061563584255,\n",
              " 3.2183962309957557,\n",
              " 0.12846156510740578,\n",
              " 2.780840651888078,\n",
              " 2.959986429140848,\n",
              " 3.200039724817952,\n",
              " 3.1967553511444393,\n",
              " 2.9524552348649356,\n",
              " 3.0041556487866368,\n",
              " 0.7483021794528067,\n",
              " 1.4119780539246825,\n",
              " 2.557010418447658,\n",
              " 2.713882361490267,\n",
              " 3.168365345773909,\n",
              " 3.220974473184342,\n",
              " 1.7591681416428864,\n",
              " 3.2095620479230536,\n",
              " 2.994814886514112,\n",
              " 2.6971311734574277,\n",
              " 2.9611672942525646,\n",
              " 2.7010980781554124,\n",
              " 2.3775646876692877,\n",
              " 1.1657538502063345,\n",
              " 2.747596613263689,\n",
              " 2.5054714673415424,\n",
              " 1.768475075747332,\n",
              " 1.9505456404749304,\n",
              " 1.953613097268525,\n",
              " 3.1842909841883973,\n",
              " 2.6551677922168797,\n",
              " 3.221303587170805,\n",
              " 2.8742244613109813,\n",
              " 1.9449258078091722,\n",
              " 1.844408448246133,\n",
              " 3.1202890038612443,\n",
              " 1.4956483693029898,\n",
              " 0.6248626167710902,\n",
              " 2.8058071817716144,\n",
              " 3.160206716251521,\n",
              " 2.8220581425686646,\n",
              " 2.44471268168927,\n",
              " 2.4810110566285246,\n",
              " 3.1611363859380868,\n",
              " 1.2003966036337008,\n",
              " 3.1364213366665967,\n",
              " 2.7024914269181397,\n",
              " 1.1169151152566779,\n",
              " 3.043515715468129,\n",
              " 1.8786162028864695,\n",
              " 2.4296474585628736,\n",
              " 2.1475275194985173,\n",
              " 1.976271582979269,\n",
              " 2.702041602263889,\n",
              " 0.8546202598690766,\n",
              " 2.748056691393675,\n",
              " 2.693252066252796,\n",
              " 2.0975875926026566,\n",
              " 3.1563357389444118,\n",
              " 2.9459825473529375,\n",
              " 1.6214494118881968,\n",
              " 1.1830781940825585,\n",
              " 0.9663384880141189,\n",
              " 3.2120650191554874,\n",
              " 2.23673616851523,\n",
              " 3.176641004755242,\n",
              " 1.6261880416590324,\n",
              " 2.8626413102597104,\n",
              " 2.431214958402899,\n",
              " 1.9197476613496305,\n",
              " 0.12143332035706568,\n",
              " 2.2216396080603156,\n",
              " 3.1261288143086188,\n",
              " 3.2142725209601273,\n",
              " 1.6922254826169922,\n",
              " 2.6870312889518475,\n",
              " 3.206075686024601,\n",
              " 0.42615465423993604,\n",
              " 1.380243354715438,\n",
              " 1.7668322499808022,\n",
              " 1.1251617686145883,\n",
              " 1.1113832463047773,\n",
              " 3.2162833437597254,\n",
              " 2.848092410826972,\n",
              " 1.490417305061311,\n",
              " 0.8159529051806749,\n",
              " 3.1947575946140128,\n",
              " 3.098750202530682,\n",
              " 0.4471598734450636,\n",
              " 0.81443346402048,\n",
              " 2.9136580866406625,\n",
              " 0.6317124285130726,\n",
              " 3.2235726461318035,\n",
              " 2.0934878212271744,\n",
              " 3.224751571163044,\n",
              " 3.0472149812160225,\n",
              " 2.3257685113523006,\n",
              " 1.5633746868802623,\n",
              " 0.6664755448111477,\n",
              " 3.0328890690335686,\n",
              " 0.1890328374392716,\n",
              " 2.5908722091969087,\n",
              " 1.9871040251975594,\n",
              " 3.179033602329313,\n",
              " 3.218443880526499,\n",
              " 3.222825163846722,\n",
              " 3.1959001761978922,\n",
              " 2.5387955071926367,\n",
              " 2.1070485441809406,\n",
              " 1.2691881567427077,\n",
              " 1.0735930230365085,\n",
              " 0.16300027655787344,\n",
              " 3.1765545724207382,\n",
              " 3.015143868042719,\n",
              " 1.2241113475339758,\n",
              " 0.8707377463940699,\n",
              " 2.8994569385567264,\n",
              " 3.2144260097224517,\n",
              " 2.6246763424718407,\n",
              " 0.9952822673646601,\n",
              " 3.2101489671521035,\n",
              " 2.7939285439237524,\n",
              " 2.331555652308334,\n",
              " 0.7653458790782325,\n",
              " 2.835282367942738,\n",
              " 1.5489275100785396,\n",
              " 2.6223934895378105,\n",
              " 2.6003211470664898,\n",
              " 1.9686880449419846,\n",
              " 1.955363789824867,\n",
              " 2.1321992523332187,\n",
              " 2.1492859636579023,\n",
              " 0.598932421514397,\n",
              " 2.790984107761907,\n",
              " 3.0168520890956048,\n",
              " 2.2505047366955635,\n",
              " 2.4556136762298535,\n",
              " 0.24972332579742043,\n",
              " 2.0532629234159034,\n",
              " 2.5960319962312073,\n",
              " 1.4940350207079853,\n",
              " 3.030319558369223,\n",
              " 2.713387893055894,\n",
              " 3.136816487358281,\n",
              " 0.5822955264833571,\n",
              " 0.18730469699131372,\n",
              " 2.140761082401996,\n",
              " 1.0175704395126937,\n",
              " 3.189014147895084,\n",
              " 3.0989440411920888,\n",
              " 1.2095562739930945,\n",
              " 2.4793422842757633,\n",
              " 1.8365139284054857,\n",
              " 0.7254134800691567,\n",
              " 3.170152077865681,\n",
              " 2.340531339006184,\n",
              " 3.219065667036151,\n",
              " 3.062513192994384,\n",
              " 2.5944255575533077,\n",
              " 2.856632865318484,\n",
              " 3.079585969284659,\n",
              " 3.1988270628628124,\n",
              " 2.8750852919802035,\n",
              " 2.7680012431543433,\n",
              " 1.1641403049703007,\n",
              " 1.0737611095697295,\n",
              " 1.8885767705840968,\n",
              " 1.635543805528285,\n",
              " 2.938930927242029,\n",
              " 3.0174424025795195,\n",
              " 2.599672256295674,\n",
              " 1.8455069205538213,\n",
              " 1.9636716143917854,\n",
              " 1.0913552336566448,\n",
              " 0.4241496023501617,\n",
              " 3.013436840691296,\n",
              " 1.387028751520008,\n",
              " 3.219033591958864,\n",
              " 1.7639201579586423,\n",
              " 2.0024326104809056,\n",
              " 3.1066179444241495,\n",
              " 2.9940082346046397,\n",
              " 3.174862419199234,\n",
              " 3.1659499720003526,\n",
              " 0.1709394765581435,\n",
              " 3.224321273986823,\n",
              " 2.878920551198589,\n",
              " 1.5954021154781899,\n",
              " 2.9642430788738827,\n",
              " 1.9423834204128487,\n",
              " 3.2238620715143607,\n",
              " 1.4676174665129675,\n",
              " 2.895257996085531,\n",
              " 0.3966681737923394,\n",
              " 3.1238584906152838,\n",
              " 2.3464172863458055,\n",
              " 3.163292028192041,\n",
              " 2.9768689766335763,\n",
              " 2.4887466139085888,\n",
              " 2.4406422134369143,\n",
              " 1.0573580109168939,\n",
              " 0.4195357620641589,\n",
              " 1.1212815525451372,\n",
              " 3.2179986686999573,\n",
              " 0.3956090555933836]"
            ]
          },
          "metadata": {},
          "execution_count": 33
        }
      ],
      "source": [
        "# 8. Write a Python function to calculate the probability density function (PDF) of a continuous random\n",
        "# variable for a given normal distribution.\n",
        "\n",
        "\n",
        "data = np.random.normal(loc=0, scale=1, size=1000)\n",
        "\n",
        "def pdf_normal_dist(data, mean, sd):\n",
        "    prob_density = [(np.pi * sd) * np.exp(-0.5 * ((x - mean) / sd) ** 2) for x in data]\n",
        "    return prob_density\n",
        "\n",
        "pdfs = pdf_normal_dist(data, np.mean(data), np.std(data))\n",
        "pdfs"
      ]
    },
    {
      "cell_type": "code",
      "execution_count": 34,
      "id": "30a336e9-753d-4ddd-aa4e-8005e8053385",
      "metadata": {
        "colab": {
          "base_uri": "https://localhost:8080/"
        },
        "id": "30a336e9-753d-4ddd-aa4e-8005e8053385",
        "outputId": "e9a3a2fa-4ef2-4ffd-db23-055bc1896828"
      },
      "outputs": [
        {
          "output_type": "execute_result",
          "data": {
            "text/plain": [
              "array([0.012, 0.044, 0.148, 0.374, 0.592, 0.814, 0.942, 0.986, 0.998,\n",
              "       1.   ])"
            ]
          },
          "metadata": {},
          "execution_count": 34
        }
      ],
      "source": [
        "# 9. Create a program to calculate the cumulative distribution function (CDF) of exponential distribution.\n",
        "\n",
        "# No of Data points\n",
        "N = 500\n",
        "\n",
        "# initializing random values\n",
        "data = np.random.randn(N)\n",
        "\n",
        "# getting data of the histogram\n",
        "count, bins_count = np.histogram(data, bins=10)\n",
        "\n",
        "# finding the PDF of the histogram using count values\n",
        "pdf = count / sum(count)\n",
        "\n",
        "# using numpy np.cumsum to calculate the CDF\n",
        "# We can also find using the PDF values by looping and adding\n",
        "cdf = np.cumsum(pdf)\n",
        "cdf"
      ]
    },
    {
      "cell_type": "code",
      "execution_count": 37,
      "id": "2ca641e2-85dc-4fe1-a72b-b37fa72720a6",
      "metadata": {
        "colab": {
          "base_uri": "https://localhost:8080/"
        },
        "id": "2ca641e2-85dc-4fe1-a72b-b37fa72720a6",
        "outputId": "1ea88feb-37ed-4355-a4e1-d4fd8c2f1f68"
      },
      "outputs": [
        {
          "output_type": "stream",
          "name": "stdout",
          "text": [
            "The PMF of a Poisson distribution with k=3 and lambda=2.5 is 0.21376\n"
          ]
        }
      ],
      "source": [
        "# 10. Write a Python function to calculate the probability mass function (PMF) of Poisson distribution.\n",
        "\n",
        "import math\n",
        "\n",
        "def poisson_pmf(k, lam):\n",
        "\n",
        "    if k < 0 or lam <= 0:\n",
        "        raise ValueError(\"k must be a non-negative integer and lambda must be a positive number.\")\n",
        "    return (lam ** k * math.exp(-lam)) / math.factorial(k)\n",
        "\n",
        "k = 3  # Number of occurrences\n",
        "lam = 2.5  # Average number of occurrences\n",
        "\n",
        "pmf_value = poisson_pmf(k, lam)\n",
        "print(f\"The PMF of a Poisson distribution with k={k} and lambda={lam} is {pmf_value:.5f}\")"
      ]
    },
    {
      "cell_type": "code",
      "execution_count": 39,
      "id": "27280760-ded8-45a3-9b98-88549de3a1f3",
      "metadata": {
        "colab": {
          "base_uri": "https://localhost:8080/"
        },
        "id": "27280760-ded8-45a3-9b98-88549de3a1f3",
        "outputId": "a707c661-f8f9-432e-ab5f-80af38e19146"
      },
      "outputs": [
        {
          "output_type": "stream",
          "name": "stdout",
          "text": [
            "Z-Statistic: 4.51528017979403\n",
            "P-Value: 3.1616553972657613e-06\n",
            "Reject the null hypothesis: The new layout leads to a higher conversion rate.\n"
          ]
        }
      ],
      "source": [
        "# 11. A company wants to test if a new website layout leads to a higher conversion rate (percentage of visitors\n",
        "# who make a purchase). They collect data from the old and new layouts to compare.\n",
        "# To generate the data use the following command:\n",
        "# ““python\n",
        "# import numpy as np\n",
        "# # 50 purchases out of 1000 visitors\n",
        "# old_layout = np.array([1] * 50 + [0] * 950)\n",
        "# # 70 purchases out of 1000 visitors\n",
        "# new_layout = np.array([1] * 70 + [0] * 930)\n",
        "# Apply z-test to find which layout is successful.\n",
        "\n",
        "old_layout = np.array([1] * 50 + [0] * 950)\n",
        "new_layout = np.array([1] * 70 + [0] * 930)\n",
        "\n",
        "# Calculate differences\n",
        "differences = new_layout - old_layout\n",
        "\n",
        "# Calculate mean and standard deviation of differences\n",
        "mean_diff = np.mean(differences)\n",
        "std_diff = np.std(differences, ddof=1)\n",
        "n = len(differences)\n",
        "\n",
        "# Perform the z-test\n",
        "z_stat = mean_diff / (std_diff / np.sqrt(n))\n",
        "p_value = 1 - stats.norm.cdf(abs(z_stat)) # one sided\n",
        "\n",
        "print(f\"Z-Statistic: {z_stat}\")\n",
        "print(f\"P-Value: {p_value}\")\n",
        "\n",
        "if p_value < 0.05:\n",
        "    print(\"Reject the null hypothesis: The new layout leads to a higher conversion rate.\")\n",
        "else:\n",
        "    print(\"Fail to reject the null hypothesis: There is not enough evidence to say the new layout leads to a higher conversion rate.\")"
      ]
    },
    {
      "cell_type": "code",
      "execution_count": 40,
      "id": "7c691538-9614-4eb4-9f74-fdae44a5e03b",
      "metadata": {
        "colab": {
          "base_uri": "https://localhost:8080/"
        },
        "id": "7c691538-9614-4eb4-9f74-fdae44a5e03b",
        "outputId": "4f4720b3-8373-4c9c-ffb6-c1d852f750ff"
      },
      "outputs": [
        {
          "output_type": "stream",
          "name": "stdout",
          "text": [
            "Z-Statistic: 4.593190894944668\n",
            "P-Value: 2.182597052646784e-06\n",
            "Reject the null hypothesis: The tutoring program has a significant effect on improving scores.\n"
          ]
        }
      ],
      "source": [
        "# 12. A tutoring service claims that its program improves students’ exam scores. A sample of students who\n",
        "# participated in the program was taken, and their scores before and after the program were recorded.\n",
        "# Use the below code to generate samples of respective arrays of marks:\n",
        "# “python\n",
        "# before_program = np.array([75, 80, 85, 70, 90, 78, 92, 88, 82, 87])\n",
        "# after_program = np.array([80, 85, 90, 80, 92, 80, 95, 90, 85, 88])\n",
        "# Use z-test to find if the claims made by tutor are true or false.\n",
        "\n",
        "\n",
        "before_program = np.array([75, 80, 85, 70, 90, 78, 92, 88, 82, 87])\n",
        "after_program = np.array([80, 85, 90, 80, 92, 80, 95, 90, 85, 88])\n",
        "\n",
        "# Calculate differences\n",
        "differences = after_program - before_program\n",
        "\n",
        "# Calculate mean and standard deviation of differences\n",
        "mean_diff = np.mean(differences)\n",
        "std_diff = np.std(differences, ddof=1)\n",
        "n = len(differences)\n",
        "\n",
        "# Perform the z-test\n",
        "z_stat = mean_diff / (std_diff / np.sqrt(n))\n",
        "p_value = 1 - stats.norm.cdf(abs(z_stat)) # one sided\n",
        "\n",
        "print(f\"Z-Statistic: {z_stat}\")\n",
        "print(f\"P-Value: {p_value}\")\n",
        "\n",
        "# Conclusion\n",
        "if p_value < 0.05:\n",
        "    print(\"Reject the null hypothesis: The tutoring program has a significant effect on improving scores.\")\n",
        "else:\n",
        "    print(\"Fail to reject the null hypothesis: There is no significant effect of the tutoring program on scores.\")"
      ]
    },
    {
      "cell_type": "code",
      "execution_count": 41,
      "id": "446f390e-1669-4533-b48b-07bde56d823b",
      "metadata": {
        "colab": {
          "base_uri": "https://localhost:8080/"
        },
        "id": "446f390e-1669-4533-b48b-07bde56d823b",
        "outputId": "11a86207-326b-43f4-e9dd-43248500caf7"
      },
      "outputs": [
        {
          "output_type": "stream",
          "name": "stdout",
          "text": [
            "Z-Statistic: -10.049875621120888\n",
            "P-Value: 2.182597052646784e-06\n",
            "Reject the null hypothesis: The new drug is effective in reducing blood pressure.\n"
          ]
        }
      ],
      "source": [
        "# 13. A pharmaceutical company wants to determine if a new drug is effective in reducing blood pressure. They\n",
        "# conduct a study and record blood pressure measurements before and after administering the drug.\n",
        "# Use the below code to generate samples of respective arrays of blood pressure:\n",
        "# “python\n",
        "# before_drug = np.array([145, 150, 140, 135, 155, 160, 152, 148, 130, 138])\n",
        "# after_drug = np.array([130, 140, 132, 128, 145, 148, 138, 136, 125, 130])\n",
        "# Implement z-test to find if the drug really works or not.\n",
        "\n",
        "\n",
        "before_drug = np.array([145, 150, 140, 135, 155, 160, 152, 148, 130, 138])\n",
        "after_drug = np.array([130, 140, 132, 128, 145, 148, 138, 136, 125, 130])\n",
        "\n",
        "differences = after_drug - before_drug\n",
        "\n",
        "# Calculate mean and standard deviation of differences\n",
        "mean_diff = np.mean(differences)\n",
        "std_diff = np.std(differences, ddof=1)\n",
        "n = len(differences)\n",
        "\n",
        "# Perform the z-test\n",
        "z_stat = mean_diff / (std_diff / np.sqrt(n))\n",
        "p_values = 1 - stats.norm.cdf(abs(z_stat))\n",
        "\n",
        "print(f\"Z-Statistic: {z_stat}\")\n",
        "print(f\"P-Value: {p_value}\")\n",
        "\n",
        "# Conclusion\n",
        "if p_value < 0.05:\n",
        "    print(\"Reject the null hypothesis: The new drug is effective in reducing blood pressure.\")\n",
        "else:\n",
        "    print(\"Fail to reject the null hypothesis: There is no significant effect of the new drug.\")"
      ]
    },
    {
      "cell_type": "code",
      "execution_count": 42,
      "id": "ac3357b4-05d9-4081-ac1d-9e8c87781bfe",
      "metadata": {
        "colab": {
          "base_uri": "https://localhost:8080/"
        },
        "id": "ac3357b4-05d9-4081-ac1d-9e8c87781bfe",
        "outputId": "78f1e549-ec7a-4de9-fd97-66d069ad2b15"
      },
      "outputs": [
        {
          "output_type": "stream",
          "name": "stdout",
          "text": [
            "Z-Statistic: -3.184457226042963\n",
            "P-Value: 0.0007251287113068958\n",
            "Reject the null hypothesis: The average response time is significantly less than 5 minutes.\n"
          ]
        }
      ],
      "source": [
        "# 14. A customer service department claims that their average response time is less than 5 minutes. A sample\n",
        "# of recent customer interactions was taken, and the response times were recorded.\n",
        "# Implement the below code to generate the array of response time:\n",
        "# “python\n",
        "# response_times = np.array([4.3, 3.8, 5.1, 4.9, 4.7, 4.2, 5.2, 4.5, 4.6, 4.4])\n",
        "# Implement z-test to find the claims made by customer service department are true or false.\n",
        "\n",
        "\n",
        "response_times = np.array([4.3, 3.8, 5.1, 4.9, 4.7, 4.2, 5.2, 4.5, 4.6, 4.4])\n",
        "\n",
        "# Hypothesized population mean\n",
        "mu = 5\n",
        "\n",
        "# Sample mean and standard deviation\n",
        "sample_mean = np.mean(response_times)\n",
        "sample_std = np.std(response_times, ddof=1)\n",
        "n = len(response_times)\n",
        "\n",
        "# Calculate the z-statistic\n",
        "z_stat = (sample_mean - mu) / (sample_std / np.sqrt(n))\n",
        "\n",
        "# Calculate the one-sided p-value\n",
        "p_value = stats.norm.cdf(z_stat)\n",
        "\n",
        "print(f\"Z-Statistic: {z_stat}\")\n",
        "print(f\"P-Value: {p_value}\")\n",
        "\n",
        "# Conclusion\n",
        "if p_value < 0.05:\n",
        "    print(\"Reject the null hypothesis: The average response time is significantly less than 5 minutes.\")\n",
        "else:\n",
        "    print(\"Fail to reject the null hypothesis: There is no significant evidence that the average response time is less than 5 minutes.\")"
      ]
    },
    {
      "cell_type": "code",
      "execution_count": 43,
      "id": "5a7bf3f6-dc3d-4081-8725-d9992621b59a",
      "metadata": {
        "colab": {
          "base_uri": "https://localhost:8080/"
        },
        "id": "5a7bf3f6-dc3d-4081-8725-d9992621b59a",
        "outputId": "d1dbba1d-85fc-4752-ebb0-d6b1c1305eab"
      },
      "outputs": [
        {
          "output_type": "stream",
          "name": "stdout",
          "text": [
            "t_statistics: -7.298102156175071\n",
            "p_value: 8.833437608301987e-07\n",
            "degree of freedom: 18\n"
          ]
        }
      ],
      "source": [
        "# 15. A company is testing two different website layouts to see which one leads to higher click-through rates.\n",
        "# Write a Python function to perform an A/B test analysis, including calculating the t-statistic, degrees of\n",
        "# freedom, and p-value.\n",
        "# Use the following data:\n",
        "# ““python\n",
        "# layout_a_clicks = [28, 32, 33, 29, 31, 34, 30, 35, 36, 37]\n",
        "# layout_b _clicks = [40, 41, 38, 42, 39, 44, 43, 41, 45, 47]\n",
        "\n",
        "layout_a_clicks = [28, 32, 33, 29, 31, 34, 30, 35, 36, 37]\n",
        "layout_b_clicks = [40, 41, 38, 42, 39, 44, 43, 41, 45, 47]\n",
        "\n",
        "\n",
        "def ab_test(sample1, sample2):\n",
        "    t_stats, p_value = stats.ttest_ind(sample1, sample2)\n",
        "\n",
        "    dof = len(sample1) + len(sample2) - 2\n",
        "\n",
        "    return t_stats, p_value, dof\n",
        "\n",
        "t_statistic, p_value, Degre_of_freedom = ab_test(layout_a_clicks, layout_b_clicks)\n",
        "\n",
        "print(f\"t_statistics: {t_statistic}\\np_value: {p_value}\\ndegree of freedom: {Degre_of_freedom}\")"
      ]
    },
    {
      "cell_type": "code",
      "execution_count": 44,
      "id": "9fa65f5c-5440-4af7-9143-150d0410c53b",
      "metadata": {
        "colab": {
          "base_uri": "https://localhost:8080/"
        },
        "id": "9fa65f5c-5440-4af7-9143-150d0410c53b",
        "outputId": "b8d7d51c-71ae-41d3-a4c0-2870f5ead9ae"
      },
      "outputs": [
        {
          "output_type": "stream",
          "name": "stdout",
          "text": [
            "Reject the null hypothesis\n",
            "The new drug is more effective than an existing drug in reducing cholesterol levels.\n",
            "t-stats: 5.266851623825876\n",
            "p-value: 0.0002580101090040491\n"
          ]
        }
      ],
      "source": [
        "# 16. A pharmaceutical company wants to determine if a new drug is more effective than an existing drug in\n",
        "# reducing cholesterol levels. Create a program to analyze the clinical trial data and calculate the t-statistic and\n",
        "# p-value for the treatment effect.\n",
        "# Use the following data of cholestrol level:\n",
        "# “python\n",
        "# existing_drug_levels = [IBO, 182,175,185, 178,176,172,184, 179, 183]\n",
        "# new_drug_levels = [170,172,165, 168, 175,173,170, 178,172, 176]\n",
        "\n",
        "existing_drug_levels = [180, 182,175,185, 178,176,172,184, 179, 183]\n",
        "new_drug_levels = [170,172,165, 168, 175,173,170, 178,172, 176]\n",
        "\n",
        "# Define hypotheses\n",
        "# H0 : muOld <= muNew\n",
        "# HA : muOld > muNew\n",
        "\n",
        "t_stats, p_value = stats.ttest_rel(existing_drug_levels, new_drug_levels, alternative='greater')\n",
        "\n",
        "if p_value < 0.05:\n",
        "    print(\"Reject the null hypothesis\")\n",
        "    print(\"The new drug is more effective than an existing drug in reducing cholesterol levels.\")\n",
        "else:\n",
        "    print(\"Fail to reject null hypothesis\")\n",
        "    print(\"The new drug is not more effective than an existing drug in reducing cholesterol levels.\")\n",
        "\n",
        "print(f\"t-stats: {t_stats}\\np-value: {p_value}\")"
      ]
    },
    {
      "cell_type": "code",
      "execution_count": 45,
      "id": "880a0fa9-56cd-440f-98a5-037728dd61f4",
      "metadata": {
        "colab": {
          "base_uri": "https://localhost:8080/"
        },
        "id": "880a0fa9-56cd-440f-98a5-037728dd61f4",
        "outputId": "650b06a9-1ab6-42bc-be57-ec9a6c1acfbb"
      },
      "outputs": [
        {
          "output_type": "stream",
          "name": "stdout",
          "text": [
            "Fail to reject null hypothesis\n",
            "the intervention had not a significant impact.\n",
            "t-stats: -4.42840883965761\n",
            "p-value: 0.9991745225917102\n"
          ]
        }
      ],
      "source": [
        "# 17. A school district introduces an educational intervention program to improve math scores. Write a Python\n",
        "# function to analyze pre- and post-intervention test scores, calculating the t-statistic and p-value to\n",
        "# determine if the intervention had a significantimpact.\n",
        "# Use the following data of test score:\n",
        "# “python\n",
        "# pre_intervention_scores = [80, 85, 90, 75, 88, 82, 92, 78, 85, 87]\n",
        "# post_intervention_scores = [90, 92, 88, 92, 95, 91, 96, 93, 89, 93]\n",
        "\n",
        "pre_intervention_scores = [80, 85, 90, 75, 88, 82, 92, 78, 85, 87]\n",
        "post_intervention_scores = [90, 92, 88, 92, 95, 91, 96, 93, 89, 93]\n",
        "\n",
        "# Define hypotheses\n",
        "# H0 : muOld <= muNew\n",
        "# HA : muOld > muNew\n",
        "\n",
        "t_stats, p_value = stats.ttest_rel(pre_intervention_scores, post_intervention_scores, alternative='greater')\n",
        "\n",
        "if p_value < 0.05:\n",
        "    print(\"Reject the null hypothesis\")\n",
        "    print(\"the intervention had a significant impact.\")\n",
        "else:\n",
        "    print(\"Fail to reject null hypothesis\")\n",
        "    print(\"the intervention had not a significant impact.\")\n",
        "\n",
        "print(f\"t-stats: {t_stats}\\np-value: {p_value}\")"
      ]
    },
    {
      "cell_type": "code",
      "execution_count": 46,
      "id": "ec77bbfd-67fd-4f9a-9b99-bf9e7171578f",
      "metadata": {
        "colab": {
          "base_uri": "https://localhost:8080/"
        },
        "id": "ec77bbfd-67fd-4f9a-9b99-bf9e7171578f",
        "outputId": "bae0607a-6695-407b-a2f8-78da54f5de3c"
      },
      "outputs": [
        {
          "output_type": "stream",
          "name": "stdout",
          "text": [
            "Fail to reject null hypothesis\n",
            "there is not a statistically significant difference between the average salaries of male and female employees.\n",
            "t-stats: 0.06114208969631383\n",
            "p-value: 0.9515665020676465\n"
          ]
        }
      ],
      "source": [
        "# 18. An HR department wants to investigate if there's a gender-based salary gap within the company. Develop\n",
        "# a program to analyze salary data, calculate the t-statistic, and determine if there's a statistically\n",
        "# significant difference between the average salaries of male and female employees.\n",
        "# Use the below code to generate synthetic data:\n",
        "# “python\n",
        "# # Generate synthetic salary data for male and female employees\n",
        "# np.random.seed(0) # For reproducibility\n",
        "# male_salaries = np.random.normal(loc=50000, scale=10000, size=20)\n",
        "# female_salaries = np.rqndom.normul(loc=55000, scale=9000, size=20)\n",
        "\n",
        "np.random.seed(0) # For reproducibility\n",
        "male_salaries = np.random.normal(loc=50000, scale=10000, size=20)\n",
        "female_salaries = np.random.normal(loc=55000, scale=9000, size=20)\n",
        "\n",
        "# Define hypotheses\n",
        "# H0 : muOld = muNew\n",
        "# HA : muOld != muNew\n",
        "\n",
        "t_stats, p_value = stats.ttest_ind(male_salaries, female_salaries)\n",
        "\n",
        "if p_value < 0.05:\n",
        "    print(\"Reject the null hypothesis\")\n",
        "    print(\"there's a statistically significant difference between the average salaries of male and female employees.\")\n",
        "else:\n",
        "    print(\"Fail to reject null hypothesis\")\n",
        "    print(\"there is not a statistically significant difference between the average salaries of male and female employees.\")\n",
        "\n",
        "print(f\"t-stats: {t_stats}\\np-value: {p_value}\")"
      ]
    },
    {
      "cell_type": "code",
      "execution_count": 47,
      "id": "10100362-331f-469d-92f5-c9dbbc6736ed",
      "metadata": {
        "colab": {
          "base_uri": "https://localhost:8080/"
        },
        "id": "10100362-331f-469d-92f5-c9dbbc6736ed",
        "outputId": "f8910030-0dd1-471d-cb07-e0b17da9b641"
      },
      "outputs": [
        {
          "output_type": "stream",
          "name": "stdout",
          "text": [
            "Reject the null hypothesis\n",
            "there's a significant difference in quality between the two versions.\n",
            "t-stats: 11.325830417646698\n",
            "p-value: 3.6824250702873965e-15\n"
          ]
        }
      ],
      "source": [
        "# 19. A manufacturer produces two different versions of a product and wants to compare their quality scores.\n",
        "# Create a Python function to analyze quality assessment data, calculate the t-statistic, and decide\n",
        "# whether there's a significant difference in quality between the two versions.\n",
        "# Use the following data:\n",
        "# “python\n",
        "# versionl_scores = [85, 88, 82, 89, 87, 84, 90, 88, 85, 86, 91, 83, 87, 84, 89, 86, 84, 88, 85, 86, 89, 90, 87, 88, 85]\n",
        "# version2_scores = [80, 78, 83, 81, 79, 82, 76, 80, 78, 81, 77, 82, 80, 79, 82, 79, 80, 81, 79, 82, 79, 78, 80, 81, 82]\n",
        "\n",
        "versionl_scores = [85, 88, 82, 89, 87, 84, 90, 88, 85, 86, 91, 83, 87, 84, 89, 86, 84, 88, 85, 86, 89, 90, 87, 88, 85]\n",
        "version2_scores = [80, 78, 83, 81, 79, 82, 76, 80, 78, 81, 77, 82, 80, 79, 82, 79, 80, 81, 79, 82, 79, 78, 80, 81, 82]\n",
        "\n",
        "# Define hypotheses\n",
        "# H0 : muOld = muNew\n",
        "# HA : muOld != muNew\n",
        "\n",
        "t_stats, p_value = stats.ttest_ind(versionl_scores, version2_scores)\n",
        "\n",
        "if p_value < 0.05:\n",
        "    print(\"Reject the null hypothesis\")\n",
        "    print(\"there's a significant difference in quality between the two versions.\")\n",
        "else:\n",
        "    print(\"Fail to reject null hypothesis\")\n",
        "    print(\"there is no significant difference in quality between the two versions.\")\n",
        "\n",
        "print(f\"t-stats: {t_stats}\\np-value: {p_value}\")"
      ]
    },
    {
      "cell_type": "code",
      "execution_count": 48,
      "id": "85d732ab-49cc-4ae7-918a-cf72ed740985",
      "metadata": {
        "colab": {
          "base_uri": "https://localhost:8080/"
        },
        "id": "85d732ab-49cc-4ae7-918a-cf72ed740985",
        "outputId": "7f063ffb-c346-42c8-f79f-d19acba3d52c"
      },
      "outputs": [
        {
          "output_type": "stream",
          "name": "stdout",
          "text": [
            "Reject the null hypothesis\n",
            "there's a statistically significant difference in customer satisfaction between the branches.\n",
            "t-stats: 5.480077554195743\n",
            "p-value: 8.895290509945655e-07\n"
          ]
        }
      ],
      "source": [
        "# 20. A restaurant chain collects customer satisfaction scores for two different branches. Write a program to\n",
        "# analyze the scores, calculate the t-statistic, and determine if there's a statistically significant difference in\n",
        "# customer satisfaction between the branches.\n",
        "# Use the below data of scores:\n",
        "# “python\n",
        "# branch_a_scores = [4,5,3,4,5,4,5,3,4,4,5,4,4,3,4,5,5,4,3,4,5,4,3,5,4,4,5,3,4,5,4]\n",
        "# branch_b_scores = [3,4,2,3,4,3,4,2,3,3,4,3,3,2,3,4,4,3,2,3,4,3,2,4,3,3,4,2,3,4,3]\n",
        "\n",
        "branch_a_scores = [4,5,3,4,5,4,5,3,4,4,5,4,4,3,4,5,5,4,3,4,5,4,3,5,4,4,5,3,4,5,4]\n",
        "branch_b_scores = [3,4,2,3,4,3,4,2,3,3,4,3,3,2,3,4,4,3,2,3,4,3,2,4,3,3,4,2,3,4,3]\n",
        "\n",
        "# Define hypotheses\n",
        "# H0 : muOld = muNew\n",
        "# HA : muOld != muNew\n",
        "\n",
        "t_stats, p_value = stats.ttest_ind(branch_a_scores, branch_b_scores)\n",
        "\n",
        "if p_value < 0.05:\n",
        "    print(\"Reject the null hypothesis\")\n",
        "    print(\"there's a statistically significant difference in customer satisfaction between the branches.\")\n",
        "else:\n",
        "    print(\"Fail to reject null hypothesis\")\n",
        "    print(\"there is no statistically significant difference in customer satisfaction between the branches.\")\n",
        "\n",
        "print(f\"t-stats: {t_stats}\\np-value: {p_value}\")"
      ]
    },
    {
      "cell_type": "code",
      "execution_count": 49,
      "id": "751b8017-bdc9-4d10-ac9f-cc632ca04fbe",
      "metadata": {
        "colab": {
          "base_uri": "https://localhost:8080/"
        },
        "id": "751b8017-bdc9-4d10-ac9f-cc632ca04fbe",
        "outputId": "c0acc935-f757-407d-d5c0-22a5ac3091ca"
      },
      "outputs": [
        {
          "output_type": "stream",
          "name": "stdout",
          "text": [
            "Fail to reject null hypothesis\n",
            "There is no significant association between age groups and voter preferences.\n",
            "Chi-Square Statistic: 1.4401669758812612\n",
            "P-Value: 0.48671161971286614\n"
          ]
        }
      ],
      "source": [
        "# 21. A political analyst wants to determine if there is a significant association between age groups and voter\n",
        "# preferences (Candidate A or Candidate B). They collect data from a sample of 500 voters and classify\n",
        "# them into different age groups and candidate preferences. Perform a Chi-Square test to determine if\n",
        "# there is a significant association between age groups and voter preferences.\n",
        "# Use the below code to generate data:\n",
        "# “python\n",
        "# np.random.seed(0)\n",
        "# age_groups = np.random.choice([18-30', '31-50, '51+, '51+], size=30)\n",
        "# voter_preferences = np.random.choice(['Candidate A', ‘Candidate B'], size=30)\n",
        "\n",
        "np.random.seed(0)\n",
        "age_groups = np.random.choice(['18-30', '31-50', '51+'], size=30)\n",
        "voter_preferences = np.random.choice(['Candidate A', 'Candidate B'], size=30)\n",
        "\n",
        "\n",
        "# Create a contingency table\n",
        "contingency_table = np.zeros((3, 2))\n",
        "\n",
        "for i, age_group in enumerate(['18-30', '31-50', '51+']):\n",
        "    for j, preference in enumerate(['Candidate A', 'Candidate B']):\n",
        "        count = np.sum((age_groups == age_group) & (voter_preferences == preference))\n",
        "        contingency_table[i, j] = count\n",
        "\n",
        "chi2_stat, p_value, dof, expected = stats.chi2_contingency(contingency_table)\n",
        "\n",
        "if p_value < 0.05:\n",
        "    print(\"Reject the null hypothesis\")\n",
        "    print(\"There is a significant association between age groups and voter preferences.\")\n",
        "else:\n",
        "    print(\"Fail to reject null hypothesis\")\n",
        "    print(\"There is no significant association between age groups and voter preferences.\")\n",
        "\n",
        "print(f\"Chi-Square Statistic: {chi2_stat}\")\n",
        "print(f\"P-Value: {p_value}\")"
      ]
    },
    {
      "cell_type": "code",
      "execution_count": 50,
      "id": "bb9e15e8-9b2c-481b-8498-b53783ed6995",
      "metadata": {
        "colab": {
          "base_uri": "https://localhost:8080/"
        },
        "id": "bb9e15e8-9b2c-481b-8498-b53783ed6995",
        "outputId": "328c8668-1e1a-431a-e8e6-fbce2cc9fa15"
      },
      "outputs": [
        {
          "output_type": "stream",
          "name": "stdout",
          "text": [
            "Reject the null hypothesis\n",
            "There is a significant relationship between product satisfaction levels and customer regions.\n",
            "Chi-Square Statistic: 27.777056277056275\n",
            "P-Value: 0.00010349448486004387\n"
          ]
        }
      ],
      "source": [
        "# 22. A company conducted a customer satisfaction survey to determine if there is a significant relationship\n",
        "# between product satisfaction levels (Satisfied, Neutral, Dissatisfied) and the region where customers are\n",
        "# located (East, West, North, South). The survey data is summarized in a contingency table.\n",
        "## Conduct a Chi-Square test to determine if there is a significant relationship between product satisfaction levels and\n",
        "# customer regions.\n",
        "# Sample data:\n",
        "# ““python\n",
        "# #Sample data: Product satisfaction levels (rows) vs. Customer regions (columns)\n",
        "# data = np.array([[50, 30, 40, 20], [30, 40, 30, 50], [20, 30, 40, 30]])\n",
        "\n",
        "data = np.array([[50, 30, 40, 20], [30, 40, 30, 50], [20, 30, 40, 30]])\n",
        "\n",
        "chi2_stat, p_value, dof, expected = stats.chi2_contingency(data)\n",
        "\n",
        "if p_value < 0.05:\n",
        "    print(\"Reject the null hypothesis\")\n",
        "    print(\"There is a significant relationship between product satisfaction levels and customer regions.\")\n",
        "else:\n",
        "    print(\"Fail to reject null hypothesis\")\n",
        "    print(\"There is no significant relationship between product satisfaction levels and customer regions.\")\n",
        "\n",
        "print(f\"Chi-Square Statistic: {chi2_stat}\")\n",
        "print(f\"P-Value: {p_value}\")"
      ]
    },
    {
      "cell_type": "code",
      "execution_count": 51,
      "id": "3f336fbb-675f-409a-91f7-36c26ad1628a",
      "metadata": {
        "colab": {
          "base_uri": "https://localhost:8080/"
        },
        "id": "3f336fbb-675f-409a-91f7-36c26ad1628a",
        "outputId": "a701a938-f0f9-476f-9bd2-9f1f0862cc46"
      },
      "outputs": [
        {
          "output_type": "stream",
          "name": "stdout",
          "text": [
            "Reject the null hypothesis\n",
            "There is a significant difference between job performance levels before and after the training.\n",
            "Chi-Square Statistic: 22.161728395061726\n",
            "P-Value: 0.00018609719479882557\n"
          ]
        }
      ],
      "source": [
        "# 23. A company implemented an employee training program to improve job performance (Effective, Neutral,\n",
        "# Ineffective). After the training, they collected data from a sample of employees and classified them based\n",
        "# on their job performance before and after the training. Perform a Chi-Square test to determine if there is a\n",
        "# significant difference between job performance levels before and after the training.\n",
        "# Sample data:\n",
        "# “python\n",
        "# # Sample data: Job performance levels before (rows) and after (columns) training\n",
        "# data = np.array([[50, 30, 20], [30, 40, 30], [20, 30, 40]])\n",
        "\n",
        "data = np.array([[50, 30, 20], [30, 40, 30], [20, 30, 40]])\n",
        "\n",
        "chi2_stat, p_value, dof, expected = stats.chi2_contingency(data)\n",
        "\n",
        "if p_value < 0.05:\n",
        "    print(\"Reject the null hypothesis\")\n",
        "    print(\"There is a significant difference between job performance levels before and after the training.\")\n",
        "else:\n",
        "    print(\"Fail to reject null hypothesis\")\n",
        "    print(\"There is no significant difference between job performance levels before and after the training.\")\n",
        "\n",
        "print(f\"Chi-Square Statistic: {chi2_stat}\")\n",
        "print(f\"P-Value: {p_value}\")"
      ]
    },
    {
      "cell_type": "code",
      "execution_count": 77,
      "id": "b62d5873-0c08-43c6-b86c-656f9717e8bc",
      "metadata": {
        "colab": {
          "base_uri": "https://localhost:8080/"
        },
        "id": "b62d5873-0c08-43c6-b86c-656f9717e8bc",
        "outputId": "bc1f39cc-bf95-4bdc-f58b-6fe0a64e89eb"
      },
      "outputs": [
        {
          "output_type": "stream",
          "name": "stdout",
          "text": [
            "Reject the null hypothesis\n",
            "There is a significant difference in scores among the groups.\n",
            "F-Statistic: 27.03556231003039\n",
            "P-Value: 3.5786328857349003e-07\n"
          ]
        }
      ],
      "source": [
        "# 24. A company produces three different versions of a product: Standard, Premium, and Deluxe. The\n",
        "# company wants to determine if there is a significant difference in customer satisfaction scores among the\n",
        "# three product versions. They conducted a survey and collected customer satisfaction scores for each\n",
        "# version from a random sample of customers. Perform an ANOVA test to determine if there is a significant\n",
        "# difference in customer satisfaction scores.\n",
        "# Use the following data:\n",
        "# ““python\n",
        "# # Sample data: Customer satisfaction scores for each product version\n",
        "# standard_scores = [80, 85, 90, 78, 88, 82, 92, 78, 85, 87]\n",
        "# premium_scores = [90, 92, 88, 92, 95, 91, 96, 93, 89, 93]\n",
        "# deluxe_scores = [95, 98, 92, 97, 96, 94, 98, 97, 92, 99]\n",
        "\n",
        "standard_scores = [80, 85, 90, 78, 88, 82, 92, 78, 85, 87]\n",
        "premium_scores = [90, 92, 88, 92, 95, 91, 96, 93, 89, 93]\n",
        "deluxe_scores = [95, 98, 92, 97, 96, 94, 98, 97, 92, 99]\n",
        "\n",
        "## Null Hypothesis (H0): All groups have the same mean score.\n",
        "## Alternative Hypothesis (HA): At least one group has a different mean score.\n",
        "\n",
        "f_statistic, p_value = stats.f_oneway(standard_scores, premium_scores, deluxe_scores)\n",
        "\n",
        "if p_value < 0.05:\n",
        "    print(\"Reject the null hypothesis\")\n",
        "    print(\"There is a significant difference in scores among the groups.\")\n",
        "else:\n",
        "    print(\"Fail to reject the null hypothesis\")\n",
        "    print(\"There is no significant difference in scores among the groups.\")\n",
        "\n",
        "print(f\"F-Statistic: {f_statistic}\")\n",
        "print(f\"P-Value: {p_value}\")"
      ]
    },
    {
      "cell_type": "code",
      "source": [],
      "metadata": {
        "id": "uEaqqVyOxDFk"
      },
      "id": "uEaqqVyOxDFk",
      "execution_count": null,
      "outputs": []
    }
  ],
  "metadata": {
    "kernelspec": {
      "display_name": "Python 3 (ipykernel)",
      "language": "python",
      "name": "python3"
    },
    "language_info": {
      "codemirror_mode": {
        "name": "ipython",
        "version": 3
      },
      "file_extension": ".py",
      "mimetype": "text/x-python",
      "name": "python",
      "nbconvert_exporter": "python",
      "pygments_lexer": "ipython3",
      "version": "3.10.8"
    },
    "colab": {
      "provenance": []
    }
  },
  "nbformat": 4,
  "nbformat_minor": 5
}